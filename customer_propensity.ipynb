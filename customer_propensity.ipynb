{
  "cells": [
    {
      "cell_type": "code",
      "execution_count": 42,
      "id": "9242138f-d712-4bf8-91e3-70e9acc3e19e",
      "metadata": {
        "colab": {
          "base_uri": "https://localhost:8080/"
        },
        "id": "9242138f-d712-4bf8-91e3-70e9acc3e19e",
        "outputId": "0520f707-c119-4058-870f-877f56bea9bc"
      },
      "outputs": [
        {
          "output_type": "stream",
          "name": "stdout",
          "text": [
            "Datasets successfully loaded from the local 'data/' folder.\n",
            "\n",
            "First 5 rows of events.csv:\n",
            "       timestamp  visitorid event  itemid  transactionid\n",
            "0  1433221332117     257597  view  355908            NaN\n",
            "1  1433224214164     992329  view  248676            NaN\n",
            "2  1433221999827     111016  view  318965            NaN\n",
            "3  1433221955914     483717  view  253185            NaN\n",
            "4  1433221337106     951259  view  367447            NaN\n"
          ]
        }
      ],
      "source": [
        "import os\n",
        "import pandas as pd\n",
        "\n",
        "download_folder = 'data'\n",
        "\n",
        "events_df = pd.read_csv(os.path.join(download_folder, 'events.csv'))\n",
        "category_df = pd.read_csv(os.path.join(download_folder, 'category_tree.csv'))\n",
        "props1_df = pd.read_csv(os.path.join(download_folder, 'item_properties_part1.csv'))\n",
        "props2_df = pd.read_csv(os.path.join(download_folder, 'item_properties_part2.csv'))\n",
        "\n",
        "print(\"Datasets successfully loaded from the local 'data/' folder.\")\n",
        "print(\"\\nFirst 5 rows of events.csv:\")\n",
        "print(events_df.head())"
      ]
    },
    {
      "cell_type": "code",
      "execution_count": 43,
      "id": "1387b177-7756-487e-9e28-5f93391600b9",
      "metadata": {
        "id": "1387b177-7756-487e-9e28-5f93391600b9"
      },
      "outputs": [],
      "source": [
        "category_df = pd.read_csv(os.path.join(download_folder, 'category_tree.csv'))\n",
        "props1_df = pd.read_csv(os.path.join(download_folder, 'item_properties_part1.csv'))\n",
        "props2_df = pd.read_csv(os.path.join(download_folder, 'item_properties_part2.csv'))\n"
      ]
    },
    {
      "cell_type": "code",
      "execution_count": 44,
      "id": "5032fe94-b177-4b5c-a374-7f74df6707f0",
      "metadata": {
        "id": "5032fe94-b177-4b5c-a374-7f74df6707f0",
        "colab": {
          "base_uri": "https://localhost:8080/",
          "height": 206
        },
        "outputId": "e3cbd489-7a76-4037-89aa-9ce2fab07720"
      },
      "outputs": [
        {
          "output_type": "execute_result",
          "data": {
            "text/plain": [
              "   categoryid  parentid\n",
              "0        1016     213.0\n",
              "1         809     169.0\n",
              "2         570       9.0\n",
              "3        1691     885.0\n",
              "4         536    1691.0"
            ],
            "text/html": [
              "\n",
              "  <div id=\"df-3b6da50e-8062-4754-ac82-e734c9bd109c\" class=\"colab-df-container\">\n",
              "    <div>\n",
              "<style scoped>\n",
              "    .dataframe tbody tr th:only-of-type {\n",
              "        vertical-align: middle;\n",
              "    }\n",
              "\n",
              "    .dataframe tbody tr th {\n",
              "        vertical-align: top;\n",
              "    }\n",
              "\n",
              "    .dataframe thead th {\n",
              "        text-align: right;\n",
              "    }\n",
              "</style>\n",
              "<table border=\"1\" class=\"dataframe\">\n",
              "  <thead>\n",
              "    <tr style=\"text-align: right;\">\n",
              "      <th></th>\n",
              "      <th>categoryid</th>\n",
              "      <th>parentid</th>\n",
              "    </tr>\n",
              "  </thead>\n",
              "  <tbody>\n",
              "    <tr>\n",
              "      <th>0</th>\n",
              "      <td>1016</td>\n",
              "      <td>213.0</td>\n",
              "    </tr>\n",
              "    <tr>\n",
              "      <th>1</th>\n",
              "      <td>809</td>\n",
              "      <td>169.0</td>\n",
              "    </tr>\n",
              "    <tr>\n",
              "      <th>2</th>\n",
              "      <td>570</td>\n",
              "      <td>9.0</td>\n",
              "    </tr>\n",
              "    <tr>\n",
              "      <th>3</th>\n",
              "      <td>1691</td>\n",
              "      <td>885.0</td>\n",
              "    </tr>\n",
              "    <tr>\n",
              "      <th>4</th>\n",
              "      <td>536</td>\n",
              "      <td>1691.0</td>\n",
              "    </tr>\n",
              "  </tbody>\n",
              "</table>\n",
              "</div>\n",
              "    <div class=\"colab-df-buttons\">\n",
              "\n",
              "  <div class=\"colab-df-container\">\n",
              "    <button class=\"colab-df-convert\" onclick=\"convertToInteractive('df-3b6da50e-8062-4754-ac82-e734c9bd109c')\"\n",
              "            title=\"Convert this dataframe to an interactive table.\"\n",
              "            style=\"display:none;\">\n",
              "\n",
              "  <svg xmlns=\"http://www.w3.org/2000/svg\" height=\"24px\" viewBox=\"0 -960 960 960\">\n",
              "    <path d=\"M120-120v-720h720v720H120Zm60-500h600v-160H180v160Zm220 220h160v-160H400v160Zm0 220h160v-160H400v160ZM180-400h160v-160H180v160Zm440 0h160v-160H620v160ZM180-180h160v-160H180v160Zm440 0h160v-160H620v160Z\"/>\n",
              "  </svg>\n",
              "    </button>\n",
              "\n",
              "  <style>\n",
              "    .colab-df-container {\n",
              "      display:flex;\n",
              "      gap: 12px;\n",
              "    }\n",
              "\n",
              "    .colab-df-convert {\n",
              "      background-color: #E8F0FE;\n",
              "      border: none;\n",
              "      border-radius: 50%;\n",
              "      cursor: pointer;\n",
              "      display: none;\n",
              "      fill: #1967D2;\n",
              "      height: 32px;\n",
              "      padding: 0 0 0 0;\n",
              "      width: 32px;\n",
              "    }\n",
              "\n",
              "    .colab-df-convert:hover {\n",
              "      background-color: #E2EBFA;\n",
              "      box-shadow: 0px 1px 2px rgba(60, 64, 67, 0.3), 0px 1px 3px 1px rgba(60, 64, 67, 0.15);\n",
              "      fill: #174EA6;\n",
              "    }\n",
              "\n",
              "    .colab-df-buttons div {\n",
              "      margin-bottom: 4px;\n",
              "    }\n",
              "\n",
              "    [theme=dark] .colab-df-convert {\n",
              "      background-color: #3B4455;\n",
              "      fill: #D2E3FC;\n",
              "    }\n",
              "\n",
              "    [theme=dark] .colab-df-convert:hover {\n",
              "      background-color: #434B5C;\n",
              "      box-shadow: 0px 1px 3px 1px rgba(0, 0, 0, 0.15);\n",
              "      filter: drop-shadow(0px 1px 2px rgba(0, 0, 0, 0.3));\n",
              "      fill: #FFFFFF;\n",
              "    }\n",
              "  </style>\n",
              "\n",
              "    <script>\n",
              "      const buttonEl =\n",
              "        document.querySelector('#df-3b6da50e-8062-4754-ac82-e734c9bd109c button.colab-df-convert');\n",
              "      buttonEl.style.display =\n",
              "        google.colab.kernel.accessAllowed ? 'block' : 'none';\n",
              "\n",
              "      async function convertToInteractive(key) {\n",
              "        const element = document.querySelector('#df-3b6da50e-8062-4754-ac82-e734c9bd109c');\n",
              "        const dataTable =\n",
              "          await google.colab.kernel.invokeFunction('convertToInteractive',\n",
              "                                                    [key], {});\n",
              "        if (!dataTable) return;\n",
              "\n",
              "        const docLinkHtml = 'Like what you see? Visit the ' +\n",
              "          '<a target=\"_blank\" href=https://colab.research.google.com/notebooks/data_table.ipynb>data table notebook</a>'\n",
              "          + ' to learn more about interactive tables.';\n",
              "        element.innerHTML = '';\n",
              "        dataTable['output_type'] = 'display_data';\n",
              "        await google.colab.output.renderOutput(dataTable, element);\n",
              "        const docLink = document.createElement('div');\n",
              "        docLink.innerHTML = docLinkHtml;\n",
              "        element.appendChild(docLink);\n",
              "      }\n",
              "    </script>\n",
              "  </div>\n",
              "\n",
              "\n",
              "    <div id=\"df-35f52db5-46aa-44ba-9ff3-f25b00a27ef3\">\n",
              "      <button class=\"colab-df-quickchart\" onclick=\"quickchart('df-35f52db5-46aa-44ba-9ff3-f25b00a27ef3')\"\n",
              "                title=\"Suggest charts\"\n",
              "                style=\"display:none;\">\n",
              "\n",
              "<svg xmlns=\"http://www.w3.org/2000/svg\" height=\"24px\"viewBox=\"0 0 24 24\"\n",
              "     width=\"24px\">\n",
              "    <g>\n",
              "        <path d=\"M19 3H5c-1.1 0-2 .9-2 2v14c0 1.1.9 2 2 2h14c1.1 0 2-.9 2-2V5c0-1.1-.9-2-2-2zM9 17H7v-7h2v7zm4 0h-2V7h2v10zm4 0h-2v-4h2v4z\"/>\n",
              "    </g>\n",
              "</svg>\n",
              "      </button>\n",
              "\n",
              "<style>\n",
              "  .colab-df-quickchart {\n",
              "      --bg-color: #E8F0FE;\n",
              "      --fill-color: #1967D2;\n",
              "      --hover-bg-color: #E2EBFA;\n",
              "      --hover-fill-color: #174EA6;\n",
              "      --disabled-fill-color: #AAA;\n",
              "      --disabled-bg-color: #DDD;\n",
              "  }\n",
              "\n",
              "  [theme=dark] .colab-df-quickchart {\n",
              "      --bg-color: #3B4455;\n",
              "      --fill-color: #D2E3FC;\n",
              "      --hover-bg-color: #434B5C;\n",
              "      --hover-fill-color: #FFFFFF;\n",
              "      --disabled-bg-color: #3B4455;\n",
              "      --disabled-fill-color: #666;\n",
              "  }\n",
              "\n",
              "  .colab-df-quickchart {\n",
              "    background-color: var(--bg-color);\n",
              "    border: none;\n",
              "    border-radius: 50%;\n",
              "    cursor: pointer;\n",
              "    display: none;\n",
              "    fill: var(--fill-color);\n",
              "    height: 32px;\n",
              "    padding: 0;\n",
              "    width: 32px;\n",
              "  }\n",
              "\n",
              "  .colab-df-quickchart:hover {\n",
              "    background-color: var(--hover-bg-color);\n",
              "    box-shadow: 0 1px 2px rgba(60, 64, 67, 0.3), 0 1px 3px 1px rgba(60, 64, 67, 0.15);\n",
              "    fill: var(--button-hover-fill-color);\n",
              "  }\n",
              "\n",
              "  .colab-df-quickchart-complete:disabled,\n",
              "  .colab-df-quickchart-complete:disabled:hover {\n",
              "    background-color: var(--disabled-bg-color);\n",
              "    fill: var(--disabled-fill-color);\n",
              "    box-shadow: none;\n",
              "  }\n",
              "\n",
              "  .colab-df-spinner {\n",
              "    border: 2px solid var(--fill-color);\n",
              "    border-color: transparent;\n",
              "    border-bottom-color: var(--fill-color);\n",
              "    animation:\n",
              "      spin 1s steps(1) infinite;\n",
              "  }\n",
              "\n",
              "  @keyframes spin {\n",
              "    0% {\n",
              "      border-color: transparent;\n",
              "      border-bottom-color: var(--fill-color);\n",
              "      border-left-color: var(--fill-color);\n",
              "    }\n",
              "    20% {\n",
              "      border-color: transparent;\n",
              "      border-left-color: var(--fill-color);\n",
              "      border-top-color: var(--fill-color);\n",
              "    }\n",
              "    30% {\n",
              "      border-color: transparent;\n",
              "      border-left-color: var(--fill-color);\n",
              "      border-top-color: var(--fill-color);\n",
              "      border-right-color: var(--fill-color);\n",
              "    }\n",
              "    40% {\n",
              "      border-color: transparent;\n",
              "      border-right-color: var(--fill-color);\n",
              "      border-top-color: var(--fill-color);\n",
              "    }\n",
              "    60% {\n",
              "      border-color: transparent;\n",
              "      border-right-color: var(--fill-color);\n",
              "    }\n",
              "    80% {\n",
              "      border-color: transparent;\n",
              "      border-right-color: var(--fill-color);\n",
              "      border-bottom-color: var(--fill-color);\n",
              "    }\n",
              "    90% {\n",
              "      border-color: transparent;\n",
              "      border-bottom-color: var(--fill-color);\n",
              "    }\n",
              "  }\n",
              "</style>\n",
              "\n",
              "      <script>\n",
              "        async function quickchart(key) {\n",
              "          const quickchartButtonEl =\n",
              "            document.querySelector('#' + key + ' button');\n",
              "          quickchartButtonEl.disabled = true;  // To prevent multiple clicks.\n",
              "          quickchartButtonEl.classList.add('colab-df-spinner');\n",
              "          try {\n",
              "            const charts = await google.colab.kernel.invokeFunction(\n",
              "                'suggestCharts', [key], {});\n",
              "          } catch (error) {\n",
              "            console.error('Error during call to suggestCharts:', error);\n",
              "          }\n",
              "          quickchartButtonEl.classList.remove('colab-df-spinner');\n",
              "          quickchartButtonEl.classList.add('colab-df-quickchart-complete');\n",
              "        }\n",
              "        (() => {\n",
              "          let quickchartButtonEl =\n",
              "            document.querySelector('#df-35f52db5-46aa-44ba-9ff3-f25b00a27ef3 button');\n",
              "          quickchartButtonEl.style.display =\n",
              "            google.colab.kernel.accessAllowed ? 'block' : 'none';\n",
              "        })();\n",
              "      </script>\n",
              "    </div>\n",
              "\n",
              "    </div>\n",
              "  </div>\n"
            ],
            "application/vnd.google.colaboratory.intrinsic+json": {
              "type": "dataframe",
              "variable_name": "category_df",
              "summary": "{\n  \"name\": \"category_df\",\n  \"rows\": 1669,\n  \"fields\": [\n    {\n      \"column\": \"categoryid\",\n      \"properties\": {\n        \"dtype\": \"number\",\n        \"std\": 490,\n        \"min\": 0,\n        \"max\": 1698,\n        \"num_unique_values\": 1669,\n        \"samples\": [\n          758,\n          1331,\n          1283\n        ],\n        \"semantic_type\": \"\",\n        \"description\": \"\"\n      }\n    },\n    {\n      \"column\": \"parentid\",\n      \"properties\": {\n        \"dtype\": \"number\",\n        \"std\": 505.0584851746993,\n        \"min\": 8.0,\n        \"max\": 1698.0,\n        \"num_unique_values\": 362,\n        \"samples\": [\n          1027.0,\n          488.0,\n          945.0\n        ],\n        \"semantic_type\": \"\",\n        \"description\": \"\"\n      }\n    }\n  ]\n}"
            }
          },
          "metadata": {},
          "execution_count": 44
        }
      ],
      "source": [
        "category_df.head()"
      ]
    },
    {
      "cell_type": "code",
      "execution_count": 45,
      "id": "f8c18433-d2ea-4f13-9008-183b7e3292f8",
      "metadata": {
        "id": "f8c18433-d2ea-4f13-9008-183b7e3292f8",
        "colab": {
          "base_uri": "https://localhost:8080/",
          "height": 206
        },
        "outputId": "f8b5250c-b73d-4bfa-ce85-0d93a09d133a"
      },
      "outputs": [
        {
          "output_type": "execute_result",
          "data": {
            "text/plain": [
              "       timestamp  itemid    property                            value\n",
              "0  1435460400000  460429  categoryid                             1338\n",
              "1  1441508400000  206783         888          1116713 960601 n277.200\n",
              "2  1439089200000  395014         400  n552.000 639502 n720.000 424566\n",
              "3  1431226800000   59481         790                       n15360.000\n",
              "4  1431831600000  156781         917                           828513"
            ],
            "text/html": [
              "\n",
              "  <div id=\"df-49d2e046-ff53-4787-af94-e009a062cf64\" class=\"colab-df-container\">\n",
              "    <div>\n",
              "<style scoped>\n",
              "    .dataframe tbody tr th:only-of-type {\n",
              "        vertical-align: middle;\n",
              "    }\n",
              "\n",
              "    .dataframe tbody tr th {\n",
              "        vertical-align: top;\n",
              "    }\n",
              "\n",
              "    .dataframe thead th {\n",
              "        text-align: right;\n",
              "    }\n",
              "</style>\n",
              "<table border=\"1\" class=\"dataframe\">\n",
              "  <thead>\n",
              "    <tr style=\"text-align: right;\">\n",
              "      <th></th>\n",
              "      <th>timestamp</th>\n",
              "      <th>itemid</th>\n",
              "      <th>property</th>\n",
              "      <th>value</th>\n",
              "    </tr>\n",
              "  </thead>\n",
              "  <tbody>\n",
              "    <tr>\n",
              "      <th>0</th>\n",
              "      <td>1435460400000</td>\n",
              "      <td>460429</td>\n",
              "      <td>categoryid</td>\n",
              "      <td>1338</td>\n",
              "    </tr>\n",
              "    <tr>\n",
              "      <th>1</th>\n",
              "      <td>1441508400000</td>\n",
              "      <td>206783</td>\n",
              "      <td>888</td>\n",
              "      <td>1116713 960601 n277.200</td>\n",
              "    </tr>\n",
              "    <tr>\n",
              "      <th>2</th>\n",
              "      <td>1439089200000</td>\n",
              "      <td>395014</td>\n",
              "      <td>400</td>\n",
              "      <td>n552.000 639502 n720.000 424566</td>\n",
              "    </tr>\n",
              "    <tr>\n",
              "      <th>3</th>\n",
              "      <td>1431226800000</td>\n",
              "      <td>59481</td>\n",
              "      <td>790</td>\n",
              "      <td>n15360.000</td>\n",
              "    </tr>\n",
              "    <tr>\n",
              "      <th>4</th>\n",
              "      <td>1431831600000</td>\n",
              "      <td>156781</td>\n",
              "      <td>917</td>\n",
              "      <td>828513</td>\n",
              "    </tr>\n",
              "  </tbody>\n",
              "</table>\n",
              "</div>\n",
              "    <div class=\"colab-df-buttons\">\n",
              "\n",
              "  <div class=\"colab-df-container\">\n",
              "    <button class=\"colab-df-convert\" onclick=\"convertToInteractive('df-49d2e046-ff53-4787-af94-e009a062cf64')\"\n",
              "            title=\"Convert this dataframe to an interactive table.\"\n",
              "            style=\"display:none;\">\n",
              "\n",
              "  <svg xmlns=\"http://www.w3.org/2000/svg\" height=\"24px\" viewBox=\"0 -960 960 960\">\n",
              "    <path d=\"M120-120v-720h720v720H120Zm60-500h600v-160H180v160Zm220 220h160v-160H400v160Zm0 220h160v-160H400v160ZM180-400h160v-160H180v160Zm440 0h160v-160H620v160ZM180-180h160v-160H180v160Zm440 0h160v-160H620v160Z\"/>\n",
              "  </svg>\n",
              "    </button>\n",
              "\n",
              "  <style>\n",
              "    .colab-df-container {\n",
              "      display:flex;\n",
              "      gap: 12px;\n",
              "    }\n",
              "\n",
              "    .colab-df-convert {\n",
              "      background-color: #E8F0FE;\n",
              "      border: none;\n",
              "      border-radius: 50%;\n",
              "      cursor: pointer;\n",
              "      display: none;\n",
              "      fill: #1967D2;\n",
              "      height: 32px;\n",
              "      padding: 0 0 0 0;\n",
              "      width: 32px;\n",
              "    }\n",
              "\n",
              "    .colab-df-convert:hover {\n",
              "      background-color: #E2EBFA;\n",
              "      box-shadow: 0px 1px 2px rgba(60, 64, 67, 0.3), 0px 1px 3px 1px rgba(60, 64, 67, 0.15);\n",
              "      fill: #174EA6;\n",
              "    }\n",
              "\n",
              "    .colab-df-buttons div {\n",
              "      margin-bottom: 4px;\n",
              "    }\n",
              "\n",
              "    [theme=dark] .colab-df-convert {\n",
              "      background-color: #3B4455;\n",
              "      fill: #D2E3FC;\n",
              "    }\n",
              "\n",
              "    [theme=dark] .colab-df-convert:hover {\n",
              "      background-color: #434B5C;\n",
              "      box-shadow: 0px 1px 3px 1px rgba(0, 0, 0, 0.15);\n",
              "      filter: drop-shadow(0px 1px 2px rgba(0, 0, 0, 0.3));\n",
              "      fill: #FFFFFF;\n",
              "    }\n",
              "  </style>\n",
              "\n",
              "    <script>\n",
              "      const buttonEl =\n",
              "        document.querySelector('#df-49d2e046-ff53-4787-af94-e009a062cf64 button.colab-df-convert');\n",
              "      buttonEl.style.display =\n",
              "        google.colab.kernel.accessAllowed ? 'block' : 'none';\n",
              "\n",
              "      async function convertToInteractive(key) {\n",
              "        const element = document.querySelector('#df-49d2e046-ff53-4787-af94-e009a062cf64');\n",
              "        const dataTable =\n",
              "          await google.colab.kernel.invokeFunction('convertToInteractive',\n",
              "                                                    [key], {});\n",
              "        if (!dataTable) return;\n",
              "\n",
              "        const docLinkHtml = 'Like what you see? Visit the ' +\n",
              "          '<a target=\"_blank\" href=https://colab.research.google.com/notebooks/data_table.ipynb>data table notebook</a>'\n",
              "          + ' to learn more about interactive tables.';\n",
              "        element.innerHTML = '';\n",
              "        dataTable['output_type'] = 'display_data';\n",
              "        await google.colab.output.renderOutput(dataTable, element);\n",
              "        const docLink = document.createElement('div');\n",
              "        docLink.innerHTML = docLinkHtml;\n",
              "        element.appendChild(docLink);\n",
              "      }\n",
              "    </script>\n",
              "  </div>\n",
              "\n",
              "\n",
              "    <div id=\"df-49851199-b9a2-4b70-8cab-5a384d9e7516\">\n",
              "      <button class=\"colab-df-quickchart\" onclick=\"quickchart('df-49851199-b9a2-4b70-8cab-5a384d9e7516')\"\n",
              "                title=\"Suggest charts\"\n",
              "                style=\"display:none;\">\n",
              "\n",
              "<svg xmlns=\"http://www.w3.org/2000/svg\" height=\"24px\"viewBox=\"0 0 24 24\"\n",
              "     width=\"24px\">\n",
              "    <g>\n",
              "        <path d=\"M19 3H5c-1.1 0-2 .9-2 2v14c0 1.1.9 2 2 2h14c1.1 0 2-.9 2-2V5c0-1.1-.9-2-2-2zM9 17H7v-7h2v7zm4 0h-2V7h2v10zm4 0h-2v-4h2v4z\"/>\n",
              "    </g>\n",
              "</svg>\n",
              "      </button>\n",
              "\n",
              "<style>\n",
              "  .colab-df-quickchart {\n",
              "      --bg-color: #E8F0FE;\n",
              "      --fill-color: #1967D2;\n",
              "      --hover-bg-color: #E2EBFA;\n",
              "      --hover-fill-color: #174EA6;\n",
              "      --disabled-fill-color: #AAA;\n",
              "      --disabled-bg-color: #DDD;\n",
              "  }\n",
              "\n",
              "  [theme=dark] .colab-df-quickchart {\n",
              "      --bg-color: #3B4455;\n",
              "      --fill-color: #D2E3FC;\n",
              "      --hover-bg-color: #434B5C;\n",
              "      --hover-fill-color: #FFFFFF;\n",
              "      --disabled-bg-color: #3B4455;\n",
              "      --disabled-fill-color: #666;\n",
              "  }\n",
              "\n",
              "  .colab-df-quickchart {\n",
              "    background-color: var(--bg-color);\n",
              "    border: none;\n",
              "    border-radius: 50%;\n",
              "    cursor: pointer;\n",
              "    display: none;\n",
              "    fill: var(--fill-color);\n",
              "    height: 32px;\n",
              "    padding: 0;\n",
              "    width: 32px;\n",
              "  }\n",
              "\n",
              "  .colab-df-quickchart:hover {\n",
              "    background-color: var(--hover-bg-color);\n",
              "    box-shadow: 0 1px 2px rgba(60, 64, 67, 0.3), 0 1px 3px 1px rgba(60, 64, 67, 0.15);\n",
              "    fill: var(--button-hover-fill-color);\n",
              "  }\n",
              "\n",
              "  .colab-df-quickchart-complete:disabled,\n",
              "  .colab-df-quickchart-complete:disabled:hover {\n",
              "    background-color: var(--disabled-bg-color);\n",
              "    fill: var(--disabled-fill-color);\n",
              "    box-shadow: none;\n",
              "  }\n",
              "\n",
              "  .colab-df-spinner {\n",
              "    border: 2px solid var(--fill-color);\n",
              "    border-color: transparent;\n",
              "    border-bottom-color: var(--fill-color);\n",
              "    animation:\n",
              "      spin 1s steps(1) infinite;\n",
              "  }\n",
              "\n",
              "  @keyframes spin {\n",
              "    0% {\n",
              "      border-color: transparent;\n",
              "      border-bottom-color: var(--fill-color);\n",
              "      border-left-color: var(--fill-color);\n",
              "    }\n",
              "    20% {\n",
              "      border-color: transparent;\n",
              "      border-left-color: var(--fill-color);\n",
              "      border-top-color: var(--fill-color);\n",
              "    }\n",
              "    30% {\n",
              "      border-color: transparent;\n",
              "      border-left-color: var(--fill-color);\n",
              "      border-top-color: var(--fill-color);\n",
              "      border-right-color: var(--fill-color);\n",
              "    }\n",
              "    40% {\n",
              "      border-color: transparent;\n",
              "      border-right-color: var(--fill-color);\n",
              "      border-top-color: var(--fill-color);\n",
              "    }\n",
              "    60% {\n",
              "      border-color: transparent;\n",
              "      border-right-color: var(--fill-color);\n",
              "    }\n",
              "    80% {\n",
              "      border-color: transparent;\n",
              "      border-right-color: var(--fill-color);\n",
              "      border-bottom-color: var(--fill-color);\n",
              "    }\n",
              "    90% {\n",
              "      border-color: transparent;\n",
              "      border-bottom-color: var(--fill-color);\n",
              "    }\n",
              "  }\n",
              "</style>\n",
              "\n",
              "      <script>\n",
              "        async function quickchart(key) {\n",
              "          const quickchartButtonEl =\n",
              "            document.querySelector('#' + key + ' button');\n",
              "          quickchartButtonEl.disabled = true;  // To prevent multiple clicks.\n",
              "          quickchartButtonEl.classList.add('colab-df-spinner');\n",
              "          try {\n",
              "            const charts = await google.colab.kernel.invokeFunction(\n",
              "                'suggestCharts', [key], {});\n",
              "          } catch (error) {\n",
              "            console.error('Error during call to suggestCharts:', error);\n",
              "          }\n",
              "          quickchartButtonEl.classList.remove('colab-df-spinner');\n",
              "          quickchartButtonEl.classList.add('colab-df-quickchart-complete');\n",
              "        }\n",
              "        (() => {\n",
              "          let quickchartButtonEl =\n",
              "            document.querySelector('#df-49851199-b9a2-4b70-8cab-5a384d9e7516 button');\n",
              "          quickchartButtonEl.style.display =\n",
              "            google.colab.kernel.accessAllowed ? 'block' : 'none';\n",
              "        })();\n",
              "      </script>\n",
              "    </div>\n",
              "\n",
              "    </div>\n",
              "  </div>\n"
            ],
            "application/vnd.google.colaboratory.intrinsic+json": {
              "type": "dataframe",
              "variable_name": "props1_df"
            }
          },
          "metadata": {},
          "execution_count": 45
        }
      ],
      "source": [
        "props1_df.head()"
      ]
    },
    {
      "cell_type": "code",
      "execution_count": 46,
      "id": "28da35e7-ab86-48f0-be22-2937d002f421",
      "metadata": {
        "id": "28da35e7-ab86-48f0-be22-2937d002f421",
        "colab": {
          "base_uri": "https://localhost:8080/",
          "height": 206
        },
        "outputId": "ae97f1fb-0922-4f5d-d687-3a64e863cbf1"
      },
      "outputs": [
        {
          "output_type": "execute_result",
          "data": {
            "text/plain": [
              "       timestamp  itemid property            value\n",
              "0  1433041200000  183478      561           769062\n",
              "1  1439694000000  132256      976  n26.400 1135780\n",
              "2  1435460400000  420307      921  1149317 1257525\n",
              "3  1431831600000  403324      917          1204143\n",
              "4  1435460400000  230701      521           769062"
            ],
            "text/html": [
              "\n",
              "  <div id=\"df-ce9d9eef-1d05-4611-8f8a-e1fdc4985a6a\" class=\"colab-df-container\">\n",
              "    <div>\n",
              "<style scoped>\n",
              "    .dataframe tbody tr th:only-of-type {\n",
              "        vertical-align: middle;\n",
              "    }\n",
              "\n",
              "    .dataframe tbody tr th {\n",
              "        vertical-align: top;\n",
              "    }\n",
              "\n",
              "    .dataframe thead th {\n",
              "        text-align: right;\n",
              "    }\n",
              "</style>\n",
              "<table border=\"1\" class=\"dataframe\">\n",
              "  <thead>\n",
              "    <tr style=\"text-align: right;\">\n",
              "      <th></th>\n",
              "      <th>timestamp</th>\n",
              "      <th>itemid</th>\n",
              "      <th>property</th>\n",
              "      <th>value</th>\n",
              "    </tr>\n",
              "  </thead>\n",
              "  <tbody>\n",
              "    <tr>\n",
              "      <th>0</th>\n",
              "      <td>1433041200000</td>\n",
              "      <td>183478</td>\n",
              "      <td>561</td>\n",
              "      <td>769062</td>\n",
              "    </tr>\n",
              "    <tr>\n",
              "      <th>1</th>\n",
              "      <td>1439694000000</td>\n",
              "      <td>132256</td>\n",
              "      <td>976</td>\n",
              "      <td>n26.400 1135780</td>\n",
              "    </tr>\n",
              "    <tr>\n",
              "      <th>2</th>\n",
              "      <td>1435460400000</td>\n",
              "      <td>420307</td>\n",
              "      <td>921</td>\n",
              "      <td>1149317 1257525</td>\n",
              "    </tr>\n",
              "    <tr>\n",
              "      <th>3</th>\n",
              "      <td>1431831600000</td>\n",
              "      <td>403324</td>\n",
              "      <td>917</td>\n",
              "      <td>1204143</td>\n",
              "    </tr>\n",
              "    <tr>\n",
              "      <th>4</th>\n",
              "      <td>1435460400000</td>\n",
              "      <td>230701</td>\n",
              "      <td>521</td>\n",
              "      <td>769062</td>\n",
              "    </tr>\n",
              "  </tbody>\n",
              "</table>\n",
              "</div>\n",
              "    <div class=\"colab-df-buttons\">\n",
              "\n",
              "  <div class=\"colab-df-container\">\n",
              "    <button class=\"colab-df-convert\" onclick=\"convertToInteractive('df-ce9d9eef-1d05-4611-8f8a-e1fdc4985a6a')\"\n",
              "            title=\"Convert this dataframe to an interactive table.\"\n",
              "            style=\"display:none;\">\n",
              "\n",
              "  <svg xmlns=\"http://www.w3.org/2000/svg\" height=\"24px\" viewBox=\"0 -960 960 960\">\n",
              "    <path d=\"M120-120v-720h720v720H120Zm60-500h600v-160H180v160Zm220 220h160v-160H400v160Zm0 220h160v-160H400v160ZM180-400h160v-160H180v160Zm440 0h160v-160H620v160ZM180-180h160v-160H180v160Zm440 0h160v-160H620v160Z\"/>\n",
              "  </svg>\n",
              "    </button>\n",
              "\n",
              "  <style>\n",
              "    .colab-df-container {\n",
              "      display:flex;\n",
              "      gap: 12px;\n",
              "    }\n",
              "\n",
              "    .colab-df-convert {\n",
              "      background-color: #E8F0FE;\n",
              "      border: none;\n",
              "      border-radius: 50%;\n",
              "      cursor: pointer;\n",
              "      display: none;\n",
              "      fill: #1967D2;\n",
              "      height: 32px;\n",
              "      padding: 0 0 0 0;\n",
              "      width: 32px;\n",
              "    }\n",
              "\n",
              "    .colab-df-convert:hover {\n",
              "      background-color: #E2EBFA;\n",
              "      box-shadow: 0px 1px 2px rgba(60, 64, 67, 0.3), 0px 1px 3px 1px rgba(60, 64, 67, 0.15);\n",
              "      fill: #174EA6;\n",
              "    }\n",
              "\n",
              "    .colab-df-buttons div {\n",
              "      margin-bottom: 4px;\n",
              "    }\n",
              "\n",
              "    [theme=dark] .colab-df-convert {\n",
              "      background-color: #3B4455;\n",
              "      fill: #D2E3FC;\n",
              "    }\n",
              "\n",
              "    [theme=dark] .colab-df-convert:hover {\n",
              "      background-color: #434B5C;\n",
              "      box-shadow: 0px 1px 3px 1px rgba(0, 0, 0, 0.15);\n",
              "      filter: drop-shadow(0px 1px 2px rgba(0, 0, 0, 0.3));\n",
              "      fill: #FFFFFF;\n",
              "    }\n",
              "  </style>\n",
              "\n",
              "    <script>\n",
              "      const buttonEl =\n",
              "        document.querySelector('#df-ce9d9eef-1d05-4611-8f8a-e1fdc4985a6a button.colab-df-convert');\n",
              "      buttonEl.style.display =\n",
              "        google.colab.kernel.accessAllowed ? 'block' : 'none';\n",
              "\n",
              "      async function convertToInteractive(key) {\n",
              "        const element = document.querySelector('#df-ce9d9eef-1d05-4611-8f8a-e1fdc4985a6a');\n",
              "        const dataTable =\n",
              "          await google.colab.kernel.invokeFunction('convertToInteractive',\n",
              "                                                    [key], {});\n",
              "        if (!dataTable) return;\n",
              "\n",
              "        const docLinkHtml = 'Like what you see? Visit the ' +\n",
              "          '<a target=\"_blank\" href=https://colab.research.google.com/notebooks/data_table.ipynb>data table notebook</a>'\n",
              "          + ' to learn more about interactive tables.';\n",
              "        element.innerHTML = '';\n",
              "        dataTable['output_type'] = 'display_data';\n",
              "        await google.colab.output.renderOutput(dataTable, element);\n",
              "        const docLink = document.createElement('div');\n",
              "        docLink.innerHTML = docLinkHtml;\n",
              "        element.appendChild(docLink);\n",
              "      }\n",
              "    </script>\n",
              "  </div>\n",
              "\n",
              "\n",
              "    <div id=\"df-6b3370f6-c80d-4111-a9f2-09e28c006f18\">\n",
              "      <button class=\"colab-df-quickchart\" onclick=\"quickchart('df-6b3370f6-c80d-4111-a9f2-09e28c006f18')\"\n",
              "                title=\"Suggest charts\"\n",
              "                style=\"display:none;\">\n",
              "\n",
              "<svg xmlns=\"http://www.w3.org/2000/svg\" height=\"24px\"viewBox=\"0 0 24 24\"\n",
              "     width=\"24px\">\n",
              "    <g>\n",
              "        <path d=\"M19 3H5c-1.1 0-2 .9-2 2v14c0 1.1.9 2 2 2h14c1.1 0 2-.9 2-2V5c0-1.1-.9-2-2-2zM9 17H7v-7h2v7zm4 0h-2V7h2v10zm4 0h-2v-4h2v4z\"/>\n",
              "    </g>\n",
              "</svg>\n",
              "      </button>\n",
              "\n",
              "<style>\n",
              "  .colab-df-quickchart {\n",
              "      --bg-color: #E8F0FE;\n",
              "      --fill-color: #1967D2;\n",
              "      --hover-bg-color: #E2EBFA;\n",
              "      --hover-fill-color: #174EA6;\n",
              "      --disabled-fill-color: #AAA;\n",
              "      --disabled-bg-color: #DDD;\n",
              "  }\n",
              "\n",
              "  [theme=dark] .colab-df-quickchart {\n",
              "      --bg-color: #3B4455;\n",
              "      --fill-color: #D2E3FC;\n",
              "      --hover-bg-color: #434B5C;\n",
              "      --hover-fill-color: #FFFFFF;\n",
              "      --disabled-bg-color: #3B4455;\n",
              "      --disabled-fill-color: #666;\n",
              "  }\n",
              "\n",
              "  .colab-df-quickchart {\n",
              "    background-color: var(--bg-color);\n",
              "    border: none;\n",
              "    border-radius: 50%;\n",
              "    cursor: pointer;\n",
              "    display: none;\n",
              "    fill: var(--fill-color);\n",
              "    height: 32px;\n",
              "    padding: 0;\n",
              "    width: 32px;\n",
              "  }\n",
              "\n",
              "  .colab-df-quickchart:hover {\n",
              "    background-color: var(--hover-bg-color);\n",
              "    box-shadow: 0 1px 2px rgba(60, 64, 67, 0.3), 0 1px 3px 1px rgba(60, 64, 67, 0.15);\n",
              "    fill: var(--button-hover-fill-color);\n",
              "  }\n",
              "\n",
              "  .colab-df-quickchart-complete:disabled,\n",
              "  .colab-df-quickchart-complete:disabled:hover {\n",
              "    background-color: var(--disabled-bg-color);\n",
              "    fill: var(--disabled-fill-color);\n",
              "    box-shadow: none;\n",
              "  }\n",
              "\n",
              "  .colab-df-spinner {\n",
              "    border: 2px solid var(--fill-color);\n",
              "    border-color: transparent;\n",
              "    border-bottom-color: var(--fill-color);\n",
              "    animation:\n",
              "      spin 1s steps(1) infinite;\n",
              "  }\n",
              "\n",
              "  @keyframes spin {\n",
              "    0% {\n",
              "      border-color: transparent;\n",
              "      border-bottom-color: var(--fill-color);\n",
              "      border-left-color: var(--fill-color);\n",
              "    }\n",
              "    20% {\n",
              "      border-color: transparent;\n",
              "      border-left-color: var(--fill-color);\n",
              "      border-top-color: var(--fill-color);\n",
              "    }\n",
              "    30% {\n",
              "      border-color: transparent;\n",
              "      border-left-color: var(--fill-color);\n",
              "      border-top-color: var(--fill-color);\n",
              "      border-right-color: var(--fill-color);\n",
              "    }\n",
              "    40% {\n",
              "      border-color: transparent;\n",
              "      border-right-color: var(--fill-color);\n",
              "      border-top-color: var(--fill-color);\n",
              "    }\n",
              "    60% {\n",
              "      border-color: transparent;\n",
              "      border-right-color: var(--fill-color);\n",
              "    }\n",
              "    80% {\n",
              "      border-color: transparent;\n",
              "      border-right-color: var(--fill-color);\n",
              "      border-bottom-color: var(--fill-color);\n",
              "    }\n",
              "    90% {\n",
              "      border-color: transparent;\n",
              "      border-bottom-color: var(--fill-color);\n",
              "    }\n",
              "  }\n",
              "</style>\n",
              "\n",
              "      <script>\n",
              "        async function quickchart(key) {\n",
              "          const quickchartButtonEl =\n",
              "            document.querySelector('#' + key + ' button');\n",
              "          quickchartButtonEl.disabled = true;  // To prevent multiple clicks.\n",
              "          quickchartButtonEl.classList.add('colab-df-spinner');\n",
              "          try {\n",
              "            const charts = await google.colab.kernel.invokeFunction(\n",
              "                'suggestCharts', [key], {});\n",
              "          } catch (error) {\n",
              "            console.error('Error during call to suggestCharts:', error);\n",
              "          }\n",
              "          quickchartButtonEl.classList.remove('colab-df-spinner');\n",
              "          quickchartButtonEl.classList.add('colab-df-quickchart-complete');\n",
              "        }\n",
              "        (() => {\n",
              "          let quickchartButtonEl =\n",
              "            document.querySelector('#df-6b3370f6-c80d-4111-a9f2-09e28c006f18 button');\n",
              "          quickchartButtonEl.style.display =\n",
              "            google.colab.kernel.accessAllowed ? 'block' : 'none';\n",
              "        })();\n",
              "      </script>\n",
              "    </div>\n",
              "\n",
              "    </div>\n",
              "  </div>\n"
            ],
            "application/vnd.google.colaboratory.intrinsic+json": {
              "type": "dataframe",
              "variable_name": "props2_df"
            }
          },
          "metadata": {},
          "execution_count": 46
        }
      ],
      "source": [
        "props2_df.head()"
      ]
    },
    {
      "cell_type": "code",
      "execution_count": 47,
      "id": "d18a1c18-16dd-40dd-b28f-05aff0f9f815",
      "metadata": {
        "id": "d18a1c18-16dd-40dd-b28f-05aff0f9f815",
        "colab": {
          "base_uri": "https://localhost:8080/"
        },
        "outputId": "67a67b3a-25da-4a39-fd88-f4c31218f51c"
      },
      "outputs": [
        {
          "output_type": "stream",
          "name": "stdout",
          "text": [
            "================== Enhanced Checks for category_df ==================\n",
            "\n",
            "1. Shape of category_df:\n",
            "(1669, 2)\n",
            "\n",
            "2. Info of category_df:\n",
            "<class 'pandas.core.frame.DataFrame'>\n",
            "RangeIndex: 1669 entries, 0 to 1668\n",
            "Data columns (total 2 columns):\n",
            " #   Column      Non-Null Count  Dtype  \n",
            "---  ------      --------------  -----  \n",
            " 0   categoryid  1669 non-null   int64  \n",
            " 1   parentid    1644 non-null   float64\n",
            "dtypes: float64(1), int64(1)\n",
            "memory usage: 26.2 KB\n",
            "\n",
            "3. Missing Values in category_df:\n",
            "categoryid     0\n",
            "parentid      25\n",
            "dtype: int64\n",
            "\n",
            "4. Duplicate Rows in category_df:\n",
            "0\n",
            "\n",
            "5. Unique Values per Column in category_df:\n",
            "categoryid    1669\n",
            "parentid       362\n",
            "dtype: int64\n",
            "\n",
            "6. Descriptive Statistics for category_df:\n",
            "        categoryid     parentid\n",
            "count  1669.000000  1644.000000\n",
            "mean    849.285201   847.571168\n",
            "std     490.195116   505.058485\n",
            "min       0.000000     8.000000\n",
            "25%     427.000000   381.000000\n",
            "50%     848.000000   866.000000\n",
            "75%    1273.000000  1291.000000\n",
            "max    1698.000000  1698.000000\n",
            "\n",
            "7. Value Counts (for columns with < 20 unique values):\n",
            "=============================================================\n",
            "\n",
            "\n",
            "================== Enhanced Checks for events_df ==================\n",
            "\n",
            "1. Shape of events_df:\n",
            "(2756101, 5)\n",
            "\n",
            "2. Info of events_df:\n",
            "<class 'pandas.core.frame.DataFrame'>\n",
            "RangeIndex: 2756101 entries, 0 to 2756100\n",
            "Data columns (total 5 columns):\n",
            " #   Column         Dtype  \n",
            "---  ------         -----  \n",
            " 0   timestamp      int64  \n",
            " 1   visitorid      int64  \n",
            " 2   event          object \n",
            " 3   itemid         int64  \n",
            " 4   transactionid  float64\n",
            "dtypes: float64(1), int64(3), object(1)\n",
            "memory usage: 105.1+ MB\n",
            "\n",
            "3. Missing Values in events_df:\n",
            "timestamp              0\n",
            "visitorid              0\n",
            "event                  0\n",
            "itemid                 0\n",
            "transactionid    2733644\n",
            "dtype: int64\n",
            "\n",
            "4. Duplicate Rows in events_df:\n",
            "460\n",
            "\n",
            "5. Unique Values per Column in events_df:\n",
            "timestamp        2750455\n",
            "visitorid        1407580\n",
            "event                  3\n",
            "itemid            235061\n",
            "transactionid      17672\n",
            "dtype: int64\n",
            "\n",
            "6. Descriptive Statistics for events_df:\n",
            "           timestamp     visitorid    event        itemid  transactionid\n",
            "count   2.756101e+06  2.756101e+06  2756101  2.756101e+06   22457.000000\n",
            "unique           NaN           NaN        3           NaN            NaN\n",
            "top              NaN           NaN     view           NaN            NaN\n",
            "freq             NaN           NaN  2664312           NaN            NaN\n",
            "mean    1.436424e+12  7.019229e+05      NaN  2.349225e+05    8826.497796\n",
            "std     3.366312e+09  4.056875e+05      NaN  1.341954e+05    5098.996290\n",
            "min     1.430622e+12  0.000000e+00      NaN  3.000000e+00       0.000000\n",
            "25%     1.433478e+12  3.505660e+05      NaN  1.181200e+05    4411.000000\n",
            "50%     1.436453e+12  7.020600e+05      NaN  2.360670e+05    8813.000000\n",
            "75%     1.439225e+12  1.053437e+06      NaN  3.507150e+05   13224.000000\n",
            "max     1.442545e+12  1.407579e+06      NaN  4.668670e+05   17671.000000\n",
            "\n",
            "7. Value Counts (for columns with < 20 unique values):\n",
            "\n",
            "--- Column: event ---\n",
            "event\n",
            "view           2664312\n",
            "addtocart        69332\n",
            "transaction      22457\n",
            "Name: count, dtype: int64\n",
            "===========================================================\n",
            "\n",
            "\n",
            "================== Enhanced Checks for props1_df ==================\n",
            "\n",
            "1. Shape of props1_df:\n",
            "(10999999, 4)\n",
            "\n",
            "2. Info of props1_df:\n",
            "<class 'pandas.core.frame.DataFrame'>\n",
            "RangeIndex: 10999999 entries, 0 to 10999998\n",
            "Data columns (total 4 columns):\n",
            " #   Column     Dtype \n",
            "---  ------     ----- \n",
            " 0   timestamp  int64 \n",
            " 1   itemid     int64 \n",
            " 2   property   object\n",
            " 3   value      object\n",
            "dtypes: int64(2), object(2)\n",
            "memory usage: 335.7+ MB\n",
            "\n",
            "3. Missing Values in props1_df:\n",
            "timestamp    0\n",
            "itemid       0\n",
            "property     0\n",
            "value        0\n",
            "dtype: int64\n",
            "\n",
            "4. Duplicate Rows in props1_df:\n",
            "0\n",
            "\n",
            "5. Unique Values per Column in props1_df:\n",
            "timestamp         18\n",
            "itemid        417053\n",
            "property        1097\n",
            "value        1231581\n",
            "dtype: int64\n",
            "\n",
            "6. Descriptive Statistics for props1_df:\n",
            "           timestamp        itemid  property     value\n",
            "count   1.100000e+07  1.100000e+07  10999999  10999999\n",
            "unique           NaN           NaN      1097   1231581\n",
            "top              NaN           NaN       888    769062\n",
            "freq             NaN           NaN   1629817    833710\n",
            "mean    1.435158e+12  2.333851e+05       NaN       NaN\n",
            "std     3.327653e+09  1.348258e+05       NaN       NaN\n",
            "min     1.431227e+12  0.000000e+00       NaN       NaN\n",
            "25%     1.432436e+12  1.165150e+05       NaN       NaN\n",
            "50%     1.433646e+12  2.334990e+05       NaN       NaN\n",
            "75%     1.437880e+12  3.501860e+05       NaN       NaN\n",
            "max     1.442113e+12  4.668660e+05       NaN       NaN\n",
            "\n",
            "7. Value Counts (for columns with < 20 unique values):\n",
            "\n",
            "--- Column: timestamp ---\n",
            "timestamp\n",
            "1431226800000    1632785\n",
            "1433041200000    1421070\n",
            "1435460400000    1285164\n",
            "1432436400000     984576\n",
            "1433646000000     916891\n",
            "1439694000000     808048\n",
            "1431831600000     557793\n",
            "1434250800000     409613\n",
            "1436670000000     321883\n",
            "1442113200000     316050\n",
            "1440298800000     310006\n",
            "1441508400000     307259\n",
            "1437274800000     305547\n",
            "1439089200000     294443\n",
            "1440903600000     289083\n",
            "1438484400000     287459\n",
            "1437879600000     282017\n",
            "1436065200000     270312\n",
            "Name: count, dtype: int64\n",
            "===========================================================\n",
            "\n",
            "\n",
            "================== Enhanced Checks for props2_df ==================\n",
            "\n",
            "1. Shape of props2_df:\n",
            "(9275903, 4)\n",
            "\n",
            "2. Info of props2_df:\n",
            "<class 'pandas.core.frame.DataFrame'>\n",
            "RangeIndex: 9275903 entries, 0 to 9275902\n",
            "Data columns (total 4 columns):\n",
            " #   Column     Dtype \n",
            "---  ------     ----- \n",
            " 0   timestamp  int64 \n",
            " 1   itemid     int64 \n",
            " 2   property   object\n",
            " 3   value      object\n",
            "dtypes: int64(2), object(2)\n",
            "memory usage: 283.1+ MB\n",
            "\n",
            "3. Missing Values in props2_df:\n",
            "timestamp    0\n",
            "itemid       0\n",
            "property     0\n",
            "value        0\n",
            "dtype: int64\n",
            "\n",
            "4. Duplicate Rows in props2_df:\n",
            "0\n",
            "\n",
            "5. Unique Values per Column in props2_df:\n",
            "timestamp         18\n",
            "itemid        417053\n",
            "property        1094\n",
            "value        1075730\n",
            "dtype: int64\n",
            "\n",
            "6. Descriptive Statistics for props2_df:\n",
            "           timestamp        itemid property    value\n",
            "count   9.275903e+06  9.275903e+06  9275903  9275903\n",
            "unique           NaN           NaN     1094  1075730\n",
            "top              NaN           NaN      888   769062\n",
            "freq             NaN           NaN  1370581   703537\n",
            "mean    1.435156e+12  2.333968e+05      NaN      NaN\n",
            "std     3.327970e+09  1.348682e+05      NaN      NaN\n",
            "min     1.431227e+12  0.000000e+00      NaN      NaN\n",
            "25%     1.432436e+12  1.165175e+05      NaN      NaN\n",
            "50%     1.433646e+12  2.334620e+05      NaN      NaN\n",
            "75%     1.437880e+12  3.504470e+05      NaN      NaN\n",
            "max     1.442113e+12  4.668660e+05      NaN      NaN\n",
            "\n",
            "7. Value Counts (for columns with < 20 unique values):\n",
            "\n",
            "--- Column: timestamp ---\n",
            "timestamp\n",
            "1431226800000    1379971\n",
            "1433041200000    1199031\n",
            "1435460400000    1083808\n",
            "1432436400000     831022\n",
            "1433646000000     769790\n",
            "1439694000000     680196\n",
            "1431831600000     470096\n",
            "1434250800000     346352\n",
            "1436670000000     271774\n",
            "1442113200000     266968\n",
            "1440298800000     261333\n",
            "1441508400000     258924\n",
            "1437274800000     258028\n",
            "1439089200000     248335\n",
            "1440903600000     243503\n",
            "1438484400000     241856\n",
            "1437879600000     237443\n",
            "1436065200000     227473\n",
            "Name: count, dtype: int64\n",
            "===========================================================\n",
            "\n",
            "\n"
          ]
        }
      ],
      "source": [
        "import pandas as pd\n",
        "\n",
        "def perform_basic_checks(df, df_name):\n",
        "    print(f\"================== Enhanced Checks for {df_name} ==================\")\n",
        "\n",
        "    print(f\"\\n1. Shape of {df_name}:\")\n",
        "    print(df.shape)\n",
        "\n",
        "    print(f\"\\n2. Info of {df_name}:\")\n",
        "    df.info()\n",
        "\n",
        "    print(f\"\\n3. Missing Values in {df_name}:\")\n",
        "    print(df.isnull().sum())\n",
        "\n",
        "    print(f\"\\n4. Duplicate Rows in {df_name}:\")\n",
        "    print(df.duplicated().sum())\n",
        "\n",
        "    print(f\"\\n5. Unique Values per Column in {df_name}:\")\n",
        "    print(df.nunique())\n",
        "\n",
        "    print(f\"\\n6. Descriptive Statistics for {df_name}:\")\n",
        "    print(df.describe(include='all'))\n",
        "\n",
        "    print(f\"\\n7. Value Counts (for columns with < 20 unique values):\")\n",
        "    for column in df.columns:\n",
        "        if df[column].nunique() < 20:\n",
        "            print(f\"\\n--- Column: {column} ---\")\n",
        "            print(df[column].value_counts())\n",
        "\n",
        "    print(\"=\" * (50 + len(df_name)))\n",
        "    print(\"\\n\")\n",
        "\n",
        "\n",
        "perform_basic_checks(category_df, 'category_df')\n",
        "perform_basic_checks(events_df, 'events_df')\n",
        "perform_basic_checks(props1_df, 'props1_df')\n",
        "perform_basic_checks(props2_df, 'props2_df')"
      ]
    },
    {
      "cell_type": "code",
      "execution_count": 48,
      "id": "75abd385-bae9-43c7-acc9-e08984745a83",
      "metadata": {
        "id": "75abd385-bae9-43c7-acc9-e08984745a83",
        "colab": {
          "base_uri": "https://localhost:8080/"
        },
        "outputId": "6e334d19-9065-4aa6-a685-dc6cea30c10c"
      },
      "outputs": [
        {
          "output_type": "stream",
          "name": "stdout",
          "text": [
            "Shape of original props1_df: (10999999, 4)\n",
            "Shape of original props2_df: (9275903, 4)\n",
            "Shape of combined properties_df: (20275902, 4)\n"
          ]
        }
      ],
      "source": [
        "# Combining item properties dataframes props1_df and props2_df\n",
        "properties_df = pd.concat([props1_df, props2_df], ignore_index=True)\n",
        "\n",
        "print(\"Shape of original props1_df:\", props1_df.shape)\n",
        "print(\"Shape of original props2_df:\", props2_df.shape)\n",
        "print(\"Shape of combined properties_df:\", properties_df.shape)"
      ]
    },
    {
      "cell_type": "code",
      "execution_count": 49,
      "id": "eedab263-05c9-4791-9908-e04664ff1284",
      "metadata": {
        "id": "eedab263-05c9-4791-9908-e04664ff1284",
        "colab": {
          "base_uri": "https://localhost:8080/"
        },
        "outputId": "1fd7bc82-3ba2-4091-b36f-028132be708d"
      },
      "outputs": [
        {
          "output_type": "execute_result",
          "data": {
            "text/plain": [
              "(20275902, 4)"
            ]
          },
          "metadata": {},
          "execution_count": 49
        }
      ],
      "source": [
        "properties_df.shape"
      ]
    },
    {
      "cell_type": "code",
      "execution_count": 50,
      "id": "87bc770c-4723-4e95-8829-d6fdeb182f46",
      "metadata": {
        "id": "87bc770c-4723-4e95-8829-d6fdeb182f46",
        "colab": {
          "base_uri": "https://localhost:8080/"
        },
        "outputId": "415825a3-c711-4f79-8490-50412a562f7d"
      },
      "outputs": [
        {
          "output_type": "stream",
          "name": "stdout",
          "text": [
            "Original shape of events_df: (2756101, 5)\n",
            "Shape of events_df after dropping duplicates: (2755641, 5)\n"
          ]
        }
      ],
      "source": [
        "# Handle Duplicates in events_df\n",
        "print(\"Original shape of events_df:\", events_df.shape)\n",
        "events_df.drop_duplicates(inplace=True)\n",
        "print(\"Shape of events_df after dropping duplicates:\", events_df.shape)"
      ]
    },
    {
      "cell_type": "code",
      "execution_count": 51,
      "id": "33e052f9-0bf1-49ac-a18b-c632647d5bfd",
      "metadata": {
        "id": "33e052f9-0bf1-49ac-a18b-c632647d5bfd",
        "colab": {
          "base_uri": "https://localhost:8080/"
        },
        "outputId": "9d54e986-3d6a-41a0-91be-14cd52718a3d"
      },
      "outputs": [
        {
          "output_type": "stream",
          "name": "stdout",
          "text": [
            "Converted 'timestamp' in events_df:\n",
            "       timestamp            timestamp_dt\n",
            "0  1433221332117 2015-06-02 05:02:12.117\n",
            "1  1433224214164 2015-06-02 05:50:14.164\n",
            "2  1433221999827 2015-06-02 05:13:19.827\n",
            "3  1433221955914 2015-06-02 05:12:35.914\n",
            "4  1433221337106 2015-06-02 05:02:17.106\n"
          ]
        }
      ],
      "source": [
        "# Convert Timestamp Columns to Datetime\n",
        "events_df['timestamp_dt'] = pd.to_datetime(events_df['timestamp'], unit='ms')\n",
        "\n",
        "print(\"Converted 'timestamp' in events_df:\")\n",
        "print(events_df[['timestamp', 'timestamp_dt']].head())"
      ]
    },
    {
      "cell_type": "code",
      "execution_count": 52,
      "id": "a1785ef4-920e-4421-a4e0-8ba04c880d3c",
      "metadata": {
        "id": "a1785ef4-920e-4421-a4e0-8ba04c880d3c",
        "colab": {
          "base_uri": "https://localhost:8080/"
        },
        "outputId": "bdad1909-3c22-4963-ff68-e6fb6aefd51f"
      },
      "outputs": [
        {
          "output_type": "stream",
          "name": "stdout",
          "text": [
            "Missing 'parentid' values before: 25\n",
            "Missing 'parentid' values after: 0\n"
          ]
        }
      ],
      "source": [
        "#  Handle Missing Values in category_df\n",
        "print(\"Missing 'parentid' values before:\", category_df['parentid'].isnull().sum())\n",
        "category_df['parentid'] = category_df['parentid'].fillna(-1)\n",
        "print(\"Missing 'parentid' values after:\", category_df['parentid'].isnull().sum())"
      ]
    },
    {
      "cell_type": "code",
      "execution_count": 53,
      "id": "15bc5093-8967-4970-9c3d-87860d40d38e",
      "metadata": {
        "id": "15bc5093-8967-4970-9c3d-87860d40d38e",
        "colab": {
          "base_uri": "https://localhost:8080/"
        },
        "outputId": "f65335fb-8d19-43df-d980-edb29765c958"
      },
      "outputs": [
        {
          "output_type": "stream",
          "name": "stdout",
          "text": [
            "Target variable created. Distribution:\n",
            "purchased\n",
            "0    1395861\n",
            "1      11719\n",
            "Name: count, dtype: int64\n"
          ]
        }
      ],
      "source": [
        "# Defining the Target variable\n",
        "all_visitors = pd.DataFrame(events_df['visitorid'].unique(), columns=['visitorid'])\n",
        "visitors_who_purchased = events_df[events_df['event'] == 'transaction']['visitorid'].unique()\n",
        "all_visitors['purchased'] = all_visitors['visitorid'].isin(visitors_who_purchased).astype(int)\n",
        "visitor_df = all_visitors.copy()\n",
        "print(\"Target variable created. Distribution:\")\n",
        "print(visitor_df['purchased'].value_counts())"
      ]
    },
    {
      "cell_type": "code",
      "execution_count": 54,
      "id": "3e375594-842f-4b97-94f1-a37847b9e5e2",
      "metadata": {
        "id": "3e375594-842f-4b97-94f1-a37847b9e5e2",
        "colab": {
          "base_uri": "https://localhost:8080/",
          "height": 206
        },
        "outputId": "33cd6c66-69d5-4fa8-a36c-661f6ba2b77b"
      },
      "outputs": [
        {
          "output_type": "execute_result",
          "data": {
            "text/plain": [
              "   visitorid  purchased\n",
              "0     257597          0\n",
              "1     992329          0\n",
              "2     111016          0\n",
              "3     483717          0\n",
              "4     951259          0"
            ],
            "text/html": [
              "\n",
              "  <div id=\"df-59ff4358-279b-4498-9176-d0e749eb02fe\" class=\"colab-df-container\">\n",
              "    <div>\n",
              "<style scoped>\n",
              "    .dataframe tbody tr th:only-of-type {\n",
              "        vertical-align: middle;\n",
              "    }\n",
              "\n",
              "    .dataframe tbody tr th {\n",
              "        vertical-align: top;\n",
              "    }\n",
              "\n",
              "    .dataframe thead th {\n",
              "        text-align: right;\n",
              "    }\n",
              "</style>\n",
              "<table border=\"1\" class=\"dataframe\">\n",
              "  <thead>\n",
              "    <tr style=\"text-align: right;\">\n",
              "      <th></th>\n",
              "      <th>visitorid</th>\n",
              "      <th>purchased</th>\n",
              "    </tr>\n",
              "  </thead>\n",
              "  <tbody>\n",
              "    <tr>\n",
              "      <th>0</th>\n",
              "      <td>257597</td>\n",
              "      <td>0</td>\n",
              "    </tr>\n",
              "    <tr>\n",
              "      <th>1</th>\n",
              "      <td>992329</td>\n",
              "      <td>0</td>\n",
              "    </tr>\n",
              "    <tr>\n",
              "      <th>2</th>\n",
              "      <td>111016</td>\n",
              "      <td>0</td>\n",
              "    </tr>\n",
              "    <tr>\n",
              "      <th>3</th>\n",
              "      <td>483717</td>\n",
              "      <td>0</td>\n",
              "    </tr>\n",
              "    <tr>\n",
              "      <th>4</th>\n",
              "      <td>951259</td>\n",
              "      <td>0</td>\n",
              "    </tr>\n",
              "  </tbody>\n",
              "</table>\n",
              "</div>\n",
              "    <div class=\"colab-df-buttons\">\n",
              "\n",
              "  <div class=\"colab-df-container\">\n",
              "    <button class=\"colab-df-convert\" onclick=\"convertToInteractive('df-59ff4358-279b-4498-9176-d0e749eb02fe')\"\n",
              "            title=\"Convert this dataframe to an interactive table.\"\n",
              "            style=\"display:none;\">\n",
              "\n",
              "  <svg xmlns=\"http://www.w3.org/2000/svg\" height=\"24px\" viewBox=\"0 -960 960 960\">\n",
              "    <path d=\"M120-120v-720h720v720H120Zm60-500h600v-160H180v160Zm220 220h160v-160H400v160Zm0 220h160v-160H400v160ZM180-400h160v-160H180v160Zm440 0h160v-160H620v160ZM180-180h160v-160H180v160Zm440 0h160v-160H620v160Z\"/>\n",
              "  </svg>\n",
              "    </button>\n",
              "\n",
              "  <style>\n",
              "    .colab-df-container {\n",
              "      display:flex;\n",
              "      gap: 12px;\n",
              "    }\n",
              "\n",
              "    .colab-df-convert {\n",
              "      background-color: #E8F0FE;\n",
              "      border: none;\n",
              "      border-radius: 50%;\n",
              "      cursor: pointer;\n",
              "      display: none;\n",
              "      fill: #1967D2;\n",
              "      height: 32px;\n",
              "      padding: 0 0 0 0;\n",
              "      width: 32px;\n",
              "    }\n",
              "\n",
              "    .colab-df-convert:hover {\n",
              "      background-color: #E2EBFA;\n",
              "      box-shadow: 0px 1px 2px rgba(60, 64, 67, 0.3), 0px 1px 3px 1px rgba(60, 64, 67, 0.15);\n",
              "      fill: #174EA6;\n",
              "    }\n",
              "\n",
              "    .colab-df-buttons div {\n",
              "      margin-bottom: 4px;\n",
              "    }\n",
              "\n",
              "    [theme=dark] .colab-df-convert {\n",
              "      background-color: #3B4455;\n",
              "      fill: #D2E3FC;\n",
              "    }\n",
              "\n",
              "    [theme=dark] .colab-df-convert:hover {\n",
              "      background-color: #434B5C;\n",
              "      box-shadow: 0px 1px 3px 1px rgba(0, 0, 0, 0.15);\n",
              "      filter: drop-shadow(0px 1px 2px rgba(0, 0, 0, 0.3));\n",
              "      fill: #FFFFFF;\n",
              "    }\n",
              "  </style>\n",
              "\n",
              "    <script>\n",
              "      const buttonEl =\n",
              "        document.querySelector('#df-59ff4358-279b-4498-9176-d0e749eb02fe button.colab-df-convert');\n",
              "      buttonEl.style.display =\n",
              "        google.colab.kernel.accessAllowed ? 'block' : 'none';\n",
              "\n",
              "      async function convertToInteractive(key) {\n",
              "        const element = document.querySelector('#df-59ff4358-279b-4498-9176-d0e749eb02fe');\n",
              "        const dataTable =\n",
              "          await google.colab.kernel.invokeFunction('convertToInteractive',\n",
              "                                                    [key], {});\n",
              "        if (!dataTable) return;\n",
              "\n",
              "        const docLinkHtml = 'Like what you see? Visit the ' +\n",
              "          '<a target=\"_blank\" href=https://colab.research.google.com/notebooks/data_table.ipynb>data table notebook</a>'\n",
              "          + ' to learn more about interactive tables.';\n",
              "        element.innerHTML = '';\n",
              "        dataTable['output_type'] = 'display_data';\n",
              "        await google.colab.output.renderOutput(dataTable, element);\n",
              "        const docLink = document.createElement('div');\n",
              "        docLink.innerHTML = docLinkHtml;\n",
              "        element.appendChild(docLink);\n",
              "      }\n",
              "    </script>\n",
              "  </div>\n",
              "\n",
              "\n",
              "    <div id=\"df-5b619f06-b28e-420e-927a-e119f91e8271\">\n",
              "      <button class=\"colab-df-quickchart\" onclick=\"quickchart('df-5b619f06-b28e-420e-927a-e119f91e8271')\"\n",
              "                title=\"Suggest charts\"\n",
              "                style=\"display:none;\">\n",
              "\n",
              "<svg xmlns=\"http://www.w3.org/2000/svg\" height=\"24px\"viewBox=\"0 0 24 24\"\n",
              "     width=\"24px\">\n",
              "    <g>\n",
              "        <path d=\"M19 3H5c-1.1 0-2 .9-2 2v14c0 1.1.9 2 2 2h14c1.1 0 2-.9 2-2V5c0-1.1-.9-2-2-2zM9 17H7v-7h2v7zm4 0h-2V7h2v10zm4 0h-2v-4h2v4z\"/>\n",
              "    </g>\n",
              "</svg>\n",
              "      </button>\n",
              "\n",
              "<style>\n",
              "  .colab-df-quickchart {\n",
              "      --bg-color: #E8F0FE;\n",
              "      --fill-color: #1967D2;\n",
              "      --hover-bg-color: #E2EBFA;\n",
              "      --hover-fill-color: #174EA6;\n",
              "      --disabled-fill-color: #AAA;\n",
              "      --disabled-bg-color: #DDD;\n",
              "  }\n",
              "\n",
              "  [theme=dark] .colab-df-quickchart {\n",
              "      --bg-color: #3B4455;\n",
              "      --fill-color: #D2E3FC;\n",
              "      --hover-bg-color: #434B5C;\n",
              "      --hover-fill-color: #FFFFFF;\n",
              "      --disabled-bg-color: #3B4455;\n",
              "      --disabled-fill-color: #666;\n",
              "  }\n",
              "\n",
              "  .colab-df-quickchart {\n",
              "    background-color: var(--bg-color);\n",
              "    border: none;\n",
              "    border-radius: 50%;\n",
              "    cursor: pointer;\n",
              "    display: none;\n",
              "    fill: var(--fill-color);\n",
              "    height: 32px;\n",
              "    padding: 0;\n",
              "    width: 32px;\n",
              "  }\n",
              "\n",
              "  .colab-df-quickchart:hover {\n",
              "    background-color: var(--hover-bg-color);\n",
              "    box-shadow: 0 1px 2px rgba(60, 64, 67, 0.3), 0 1px 3px 1px rgba(60, 64, 67, 0.15);\n",
              "    fill: var(--button-hover-fill-color);\n",
              "  }\n",
              "\n",
              "  .colab-df-quickchart-complete:disabled,\n",
              "  .colab-df-quickchart-complete:disabled:hover {\n",
              "    background-color: var(--disabled-bg-color);\n",
              "    fill: var(--disabled-fill-color);\n",
              "    box-shadow: none;\n",
              "  }\n",
              "\n",
              "  .colab-df-spinner {\n",
              "    border: 2px solid var(--fill-color);\n",
              "    border-color: transparent;\n",
              "    border-bottom-color: var(--fill-color);\n",
              "    animation:\n",
              "      spin 1s steps(1) infinite;\n",
              "  }\n",
              "\n",
              "  @keyframes spin {\n",
              "    0% {\n",
              "      border-color: transparent;\n",
              "      border-bottom-color: var(--fill-color);\n",
              "      border-left-color: var(--fill-color);\n",
              "    }\n",
              "    20% {\n",
              "      border-color: transparent;\n",
              "      border-left-color: var(--fill-color);\n",
              "      border-top-color: var(--fill-color);\n",
              "    }\n",
              "    30% {\n",
              "      border-color: transparent;\n",
              "      border-left-color: var(--fill-color);\n",
              "      border-top-color: var(--fill-color);\n",
              "      border-right-color: var(--fill-color);\n",
              "    }\n",
              "    40% {\n",
              "      border-color: transparent;\n",
              "      border-right-color: var(--fill-color);\n",
              "      border-top-color: var(--fill-color);\n",
              "    }\n",
              "    60% {\n",
              "      border-color: transparent;\n",
              "      border-right-color: var(--fill-color);\n",
              "    }\n",
              "    80% {\n",
              "      border-color: transparent;\n",
              "      border-right-color: var(--fill-color);\n",
              "      border-bottom-color: var(--fill-color);\n",
              "    }\n",
              "    90% {\n",
              "      border-color: transparent;\n",
              "      border-bottom-color: var(--fill-color);\n",
              "    }\n",
              "  }\n",
              "</style>\n",
              "\n",
              "      <script>\n",
              "        async function quickchart(key) {\n",
              "          const quickchartButtonEl =\n",
              "            document.querySelector('#' + key + ' button');\n",
              "          quickchartButtonEl.disabled = true;  // To prevent multiple clicks.\n",
              "          quickchartButtonEl.classList.add('colab-df-spinner');\n",
              "          try {\n",
              "            const charts = await google.colab.kernel.invokeFunction(\n",
              "                'suggestCharts', [key], {});\n",
              "          } catch (error) {\n",
              "            console.error('Error during call to suggestCharts:', error);\n",
              "          }\n",
              "          quickchartButtonEl.classList.remove('colab-df-spinner');\n",
              "          quickchartButtonEl.classList.add('colab-df-quickchart-complete');\n",
              "        }\n",
              "        (() => {\n",
              "          let quickchartButtonEl =\n",
              "            document.querySelector('#df-5b619f06-b28e-420e-927a-e119f91e8271 button');\n",
              "          quickchartButtonEl.style.display =\n",
              "            google.colab.kernel.accessAllowed ? 'block' : 'none';\n",
              "        })();\n",
              "      </script>\n",
              "    </div>\n",
              "\n",
              "    </div>\n",
              "  </div>\n"
            ],
            "application/vnd.google.colaboratory.intrinsic+json": {
              "type": "dataframe",
              "variable_name": "visitor_df"
            }
          },
          "metadata": {},
          "execution_count": 54
        }
      ],
      "source": [
        "visitor_df.head()"
      ]
    },
    {
      "cell_type": "code",
      "execution_count": 55,
      "id": "d42010ae-620d-401b-8878-df547c9e3b06",
      "metadata": {
        "id": "d42010ae-620d-401b-8878-df547c9e3b06",
        "colab": {
          "base_uri": "https://localhost:8080/"
        },
        "outputId": "ce744b45-cb57-4f43-a77d-b9f396c54646"
      },
      "outputs": [
        {
          "output_type": "stream",
          "name": "stdout",
          "text": [
            "\n",
            "Merged event counts. Head of the new DataFrame:\n",
            "   visitorid  purchased  addtocart_count  transaction_count  view_count\n",
            "0     257597          0                0                  0           2\n",
            "1     992329          0                0                  0          30\n",
            "2     111016          0                0                  0           2\n",
            "3     483717          0                0                  0           3\n",
            "4     951259          0                0                  0           1\n"
          ]
        }
      ],
      "source": [
        "# Engineer Behavioral Count Features - let's count how many times each visitor performed each type of action (view, addtocart).\n",
        "event_counts = events_df.groupby(['visitorid', 'event'])['timestamp'].count().unstack(fill_value=0)\n",
        "event_counts.rename(columns={'view': 'view_count', 'addtocart': 'addtocart_count', 'transaction': 'transaction_count'}, inplace=True)\n",
        "visitor_df = pd.merge(visitor_df, event_counts, on='visitorid', how='left')\n",
        "print(\"\\nMerged event counts. Head of the new DataFrame:\")\n",
        "print(visitor_df.head())"
      ]
    },
    {
      "cell_type": "code",
      "execution_count": 56,
      "id": "a1112b2c-cc75-440c-985d-a23022a3ab1e",
      "metadata": {
        "id": "a1112b2c-cc75-440c-985d-a23022a3ab1e",
        "colab": {
          "base_uri": "https://localhost:8080/"
        },
        "outputId": "3bdf4224-49a3-46e7-a253-157e3fb8a0a0"
      },
      "outputs": [
        {
          "output_type": "stream",
          "name": "stdout",
          "text": [
            "   visitorid  purchased  addtocart_count  transaction_count  view_count  \\\n",
            "0     257597          0                0                  0           2   \n",
            "1     992329          0                0                  0          30   \n",
            "2     111016          0                0                  0           2   \n",
            "3     483717          0                0                  0           3   \n",
            "4     951259          0                0                  0           1   \n",
            "\n",
            "   unique_items_viewed  \n",
            "0                    2  \n",
            "1                   24  \n",
            "2                    1  \n",
            "3                    2  \n",
            "4                    1  \n"
          ]
        }
      ],
      "source": [
        "# Engineer Engagement Features - Go through the entire events log. For each unique visitorid, count how many different or unique itemids they have ever viewed.\"\n",
        "unique_items_viewed = events_df.groupby('visitorid')['itemid'].nunique().reset_index()\n",
        "unique_items_viewed = unique_items_viewed.rename(columns={'itemid': 'unique_items_viewed'})\n",
        "visitor_df = pd.merge(visitor_df, unique_items_viewed, on='visitorid', how='left')\n",
        "visitor_df['unique_items_viewed'] = visitor_df['unique_items_viewed'].fillna(0)\n",
        "print(visitor_df.head())"
      ]
    },
    {
      "cell_type": "code",
      "execution_count": 57,
      "id": "48c23123-408c-4819-8fea-cba12e3387c4",
      "metadata": {
        "id": "48c23123-408c-4819-8fea-cba12e3387c4",
        "colab": {
          "base_uri": "https://localhost:8080/"
        },
        "outputId": "8daa0bb6-7e54-48d1-aff9-54e0c5f67a40"
      },
      "outputs": [
        {
          "output_type": "stream",
          "name": "stdout",
          "text": [
            "Added 'add_to_cart_rate'. Head of DataFrame:\n",
            "   visitorid  view_count  addtocart_count  add_to_cart_rate\n",
            "0     257597           2                0               0.0\n",
            "1     992329          30                0               0.0\n",
            "2     111016           2                0               0.0\n",
            "3     483717           3                0               0.0\n",
            "4     951259           1                0               0.0\n"
          ]
        }
      ],
      "source": [
        "# Engineer conversion rate features\n",
        "import numpy as np\n",
        "\n",
        "visitor_df['add_to_cart_rate'] = visitor_df['addtocart_count'] / visitor_df['view_count']\n",
        "visitor_df['add_to_cart_rate'] = visitor_df['add_to_cart_rate'].replace([np.inf, -np.inf], np.nan)\n",
        "visitor_df['add_to_cart_rate'] = visitor_df['add_to_cart_rate'].fillna(0)\n",
        "print(\"Added 'add_to_cart_rate'. Head of DataFrame:\")\n",
        "print(visitor_df[['visitorid', 'view_count', 'addtocart_count', 'add_to_cart_rate']].head())"
      ]
    },
    {
      "cell_type": "code",
      "execution_count": 58,
      "id": "c2b451ac-ecaa-4af3-a130-b38b1d281467",
      "metadata": {
        "id": "c2b451ac-ecaa-4af3-a130-b38b1d281467",
        "colab": {
          "base_uri": "https://localhost:8080/"
        },
        "outputId": "cf0e31df-1e89-4d0f-c73a-dbc2fde1b9bf"
      },
      "outputs": [
        {
          "output_type": "stream",
          "name": "stdout",
          "text": [
            "The analysis will be relative to the last event date: 2015-09-18\n",
            "\n",
            "Added 'recency_days'. Final DataFrame head:\n",
            "   visitorid  purchased  addtocart_count  transaction_count  view_count  \\\n",
            "0     257597          0                0                  0           2   \n",
            "1     992329          0                0                  0          30   \n",
            "2     111016          0                0                  0           2   \n",
            "3     483717          0                0                  0           3   \n",
            "4     951259          0                0                  0           1   \n",
            "\n",
            "   unique_items_viewed  add_to_cart_rate           last_event_dt  recency_days  \n",
            "0                    2               0.0 2015-06-08 22:00:21.247           101  \n",
            "1                   24               0.0 2015-07-30 16:23:01.735            49  \n",
            "2                    1               0.0 2015-06-02 05:13:19.827           107  \n",
            "3                    2               0.0 2015-06-02 05:12:35.914           107  \n",
            "4                    1               0.0 2015-06-02 05:02:17.106           107  \n"
          ]
        }
      ],
      "source": [
        "# Engineer Recency Feature - Recency measures how recently a visitor has interacted with the site\n",
        "last_event_date = events_df['timestamp_dt'].max()\n",
        "print(f\"The analysis will be relative to the last event date: {last_event_date.date()}\")\n",
        "\n",
        "user_last_event = events_df.groupby('visitorid')['timestamp_dt'].max().reset_index()\n",
        "user_last_event.rename(columns={'timestamp_dt': 'last_event_dt'}, inplace=True)\n",
        "\n",
        "visitor_df = pd.merge(visitor_df, user_last_event, on='visitorid', how='left') # last event date as present data\n",
        "\n",
        "visitor_df['recency_days'] = (last_event_date - visitor_df['last_event_dt']).dt.days\n",
        "\n",
        "print(\"\\nAdded 'recency_days'. Final DataFrame head:\")\n",
        "print(visitor_df.head())"
      ]
    },
    {
      "cell_type": "markdown",
      "id": "8d85a7f0-5be6-4522-a9bc-9e3d3b97e6a5",
      "metadata": {
        "id": "8d85a7f0-5be6-4522-a9bc-9e3d3b97e6a5"
      },
      "source": [
        "## DATA Visualization\n"
      ]
    },
    {
      "cell_type": "code",
      "execution_count": 59,
      "id": "3d056097-7213-4734-b549-81b07a493f13",
      "metadata": {
        "id": "3d056097-7213-4734-b549-81b07a493f13",
        "colab": {
          "base_uri": "https://localhost:8080/",
          "height": 657
        },
        "outputId": "c56a2008-d84c-401e-ece3-03127e9a6c3a"
      },
      "outputs": [
        {
          "output_type": "stream",
          "name": "stdout",
          "text": [
            "Value counts for the 'purchased' column:\n",
            "purchased\n",
            "0    1395861\n",
            "1      11719\n",
            "Name: count, dtype: int64\n"
          ]
        },
        {
          "output_type": "display_data",
          "data": {
            "text/plain": [
              "<Figure size 800x600 with 1 Axes>"
            ],
            "image/png": "[encoded data removed]"
          },
          "metadata": {}
        }
      ],
      "source": [
        "# Checking class imbalance\n",
        "import matplotlib.pyplot as plt\n",
        "import seaborn as sns\n",
        "\n",
        "plt.figure(figsize=(8, 6))\n",
        "sns.countplot(x='purchased', data=visitor_df)\n",
        "plt.title('Distribution of Target Variable (Purchased)', fontsize=16)\n",
        "plt.xlabel('Purchased Status (0 = No, 1 = Yes)', fontsize=12)\n",
        "plt.ylabel('Number of Visitors', fontsize=12)\n",
        "plt.xticks([0, 1], ['Did Not Purchase', 'Purchased']) # Highly unbalance dataset which is normal for customer propensity\n",
        "\n",
        "plt.savefig('class_balance.png')\n",
        "\n",
        "print(\"Value counts for the 'purchased' column:\")\n",
        "print(visitor_df['purchased'].value_counts())"
      ]
    },
    {
      "cell_type": "code",
      "execution_count": 60,
      "id": "601d1e70-ad4d-40c0-bacd-fb65d27de6e9",
      "metadata": {
        "id": "601d1e70-ad4d-40c0-bacd-fb65d27de6e9",
        "colab": {
          "base_uri": "https://localhost:8080/",
          "height": 790
        },
        "outputId": "863caddb-9e62-442b-e9c7-5f556a99cfa2"
      },
      "outputs": [
        {
          "output_type": "display_data",
          "data": {
            "text/plain": [
              "<Figure size 1600x1200 with 4 Axes>"
            ],
            "image/png": "[encoded data removed]"
          },
          "metadata": {}
        }
      ],
      "source": [
        "\n",
        "features_to_plot = [\n",
        "    'recency_days',\n",
        "    'view_count',\n",
        "    'add_to_cart_rate',\n",
        "    'unique_items_viewed'\n",
        "]\n",
        "\n",
        "fig, axes = plt.subplots(2, 2, figsize=(16, 12))\n",
        "fig.suptitle('Feature Distributions by Purchase Status', fontsize=20)\n",
        "\n",
        "axes = axes.flatten()\n",
        "\n",
        "for i, feature in enumerate(features_to_plot):\n",
        "    use_log = True if feature in ['view_count', 'unique_items_viewed'] else False\n",
        "\n",
        "    plot_data = visitor_df[feature]\n",
        "    if use_log:\n",
        "        plot_data = plot_data + 1\n",
        "\n",
        "    sns.histplot(\n",
        "        data=visitor_df,\n",
        "        x=plot_data,\n",
        "        hue='purchased',\n",
        "        kde=True,\n",
        "        ax=axes[i],\n",
        "        log_scale=use_log\n",
        "    )\n",
        "    axes[i].set_title(f'Distribution of {feature}')\n",
        "\n",
        "plt.tight_layout(rect=[0, 0.03, 1, 0.95])\n",
        "plt.show()"
      ]
    },
    {
      "cell_type": "code",
      "execution_count": 61,
      "id": "01776449-515e-43fd-aca3-6c64c469553c",
      "metadata": {
        "id": "01776449-515e-43fd-aca3-6c64c469553c",
        "colab": {
          "base_uri": "https://localhost:8080/",
          "height": 836
        },
        "outputId": "1fdc1240-a8d0-4af0-a378-26c8f5dfe5ab"
      },
      "outputs": [
        {
          "output_type": "display_data",
          "data": {
            "text/plain": [
              "<Figure size 1000x800 with 2 Axes>"
            ],
            "image/png": "[encoded data removed]"
          },
          "metadata": {}
        }
      ],
      "source": [
        "# Correlation Heatmap\n",
        "features = [\n",
        "    'view_count',\n",
        "    'addtocart_count',\n",
        "    'transaction_count',\n",
        "    'unique_items_viewed',\n",
        "    'add_to_cart_rate',\n",
        "    'recency_days'\n",
        "]\n",
        "\n",
        "plt.figure(figsize=(10, 8))\n",
        "correlation_matrix = visitor_df[features].corr()\n",
        "sns.heatmap(correlation_matrix, annot=True, cmap='coolwarm', fmt='.2f')\n",
        "plt.title('Correlation Matrix of Features', fontsize=16)\n",
        "plt.show()"
      ]
    },
    {
      "cell_type": "code",
      "execution_count": 62,
      "id": "4155ddb0-8023-46dd-8c93-455b6e1e2100",
      "metadata": {
        "id": "4155ddb0-8023-46dd-8c93-455b6e1e2100",
        "colab": {
          "base_uri": "https://localhost:8080/"
        },
        "outputId": "915881f7-b48e-4e22-bdd9-6dae13ea2c3d"
      },
      "outputs": [
        {
          "output_type": "stream",
          "name": "stdout",
          "text": [
            "Original dataset purchase rate: 0.83 %\n",
            "Training set purchase rate: 0.83 %\n",
            "Testing set purchase rate: 0.83 %\n"
          ]
        }
      ],
      "source": [
        "# Train test split\n",
        "from sklearn.model_selection import train_test_split\n",
        "\n",
        "features = [\n",
        "    'view_count',\n",
        "    'addtocart_count',\n",
        "    'unique_items_viewed',\n",
        "    'add_to_cart_rate',\n",
        "    'recency_days'\n",
        "]\n",
        "\n",
        "X = visitor_df[features]\n",
        "y = visitor_df['purchased']\n",
        "\n",
        "X_train, X_test, y_train, y_test = train_test_split(\n",
        "    X, y, test_size=0.2, random_state=42, stratify=y\n",
        ")\n",
        "\n",
        "print(\"Original dataset purchase rate:\", round(y.mean() * 100, 2), \"%\")\n",
        "print(\"Training set purchase rate:\", round(y_train.mean() * 100, 2), \"%\")\n",
        "print(\"Testing set purchase rate:\", round(y_test.mean() * 100, 2), \"%\")"
      ]
    },
    {
      "cell_type": "code",
      "execution_count": 63,
      "id": "wzEo0atgrEuI",
      "metadata": {
        "id": "wzEo0atgrEuI",
        "colab": {
          "base_uri": "https://localhost:8080/"
        },
        "outputId": "a710139c-6176-4d31-ec57-78d9f09d8f96"
      },
      "outputs": [
        {
          "output_type": "stream",
          "name": "stdout",
          "text": [
            "Requirement already satisfied: xgboost in /usr/local/lib/python3.12/dist-packages (3.0.4)\n",
            "Requirement already satisfied: numpy in /usr/local/lib/python3.12/dist-packages (from xgboost) (2.0.2)\n",
            "Requirement already satisfied: nvidia-nccl-cu12 in /usr/local/lib/python3.12/dist-packages (from xgboost) (2.27.3)\n",
            "Requirement already satisfied: scipy in /usr/local/lib/python3.12/dist-packages (from xgboost) (1.16.1)\n"
          ]
        }
      ],
      "source": [
        "!pip install xgboost"
      ]
    },
    {
      "cell_type": "code",
      "execution_count": 64,
      "id": "-hUMQBhArldu",
      "metadata": {
        "id": "-hUMQBhArldu",
        "colab": {
          "base_uri": "https://localhost:8080/"
        },
        "outputId": "502aa400-e3a1-4bb8-a014-042ba42d6d43"
      },
      "outputs": [
        {
          "output_type": "stream",
          "name": "stdout",
          "text": [
            "Requirement already satisfied: lightgbm in /usr/local/lib/python3.12/dist-packages (4.6.0)\n",
            "Requirement already satisfied: numpy>=1.17.0 in /usr/local/lib/python3.12/dist-packages (from lightgbm) (2.0.2)\n",
            "Requirement already satisfied: scipy in /usr/local/lib/python3.12/dist-packages (from lightgbm) (1.16.1)\n"
          ]
        }
      ],
      "source": [
        "!pip install lightgbm"
      ]
    },
    {
      "cell_type": "code",
      "execution_count": 65,
      "id": "382634b7-efaa-47d9-99ea-3e01506c8554",
      "metadata": {
        "id": "382634b7-efaa-47d9-99ea-3e01506c8554",
        "colab": {
          "base_uri": "https://localhost:8080/"
        },
        "outputId": "65425071-bc70-4356-bf0d-e2b32177e14b"
      },
      "outputs": [
        {
          "output_type": "stream",
          "name": "stdout",
          "text": [
            "--- Training Logistic Regression ---\n",
            "\n",
            "Classification Report for Logistic Regression:\n",
            "              precision    recall  f1-score   support\n",
            "\n",
            "           0       1.00      0.98      0.99    279172\n",
            "           1       0.25      0.90      0.39      2344\n",
            "\n",
            "    accuracy                           0.98    281516\n",
            "   macro avg       0.62      0.94      0.69    281516\n",
            "weighted avg       0.99      0.98      0.98    281516\n",
            "\n",
            "==================================================\n",
            "\n",
            "--- Training XGBoost ---\n"
          ]
        },
        {
          "output_type": "stream",
          "name": "stderr",
          "text": [
            "/usr/local/lib/python3.12/dist-packages/xgboost/training.py:183: UserWarning: [18:29:51] WARNING: /workspace/src/learner.cc:738: \n",
            "Parameters: { \"use_label_encoder\" } are not used.\n",
            "\n",
            "  bst.update(dtrain, iteration=i, fobj=obj)\n"
          ]
        },
        {
          "output_type": "stream",
          "name": "stdout",
          "text": [
            "\n",
            "Classification Report for XGBoost:\n",
            "              precision    recall  f1-score   support\n",
            "\n",
            "           0       1.00      0.97      0.99    279172\n",
            "           1       0.23      0.91      0.36      2344\n",
            "\n",
            "    accuracy                           0.97    281516\n",
            "   macro avg       0.61      0.94      0.68    281516\n",
            "weighted avg       0.99      0.97      0.98    281516\n",
            "\n",
            "==================================================\n",
            "\n",
            "--- Training LightGBM ---\n",
            "\n",
            "Classification Report for LightGBM:\n",
            "              precision    recall  f1-score   support\n",
            "\n",
            "           0       1.00      0.97      0.99    279172\n",
            "           1       0.22      0.91      0.36      2344\n",
            "\n",
            "    accuracy                           0.97    281516\n",
            "   macro avg       0.61      0.94      0.67    281516\n",
            "weighted avg       0.99      0.97      0.98    281516\n",
            "\n",
            "==================================================\n",
            "\n"
          ]
        }
      ],
      "source": [
        "# Training and Comparing Various Models\n",
        "from sklearn.linear_model import LogisticRegression\n",
        "from xgboost import XGBClassifier\n",
        "from lightgbm import LGBMClassifier\n",
        "from sklearn.metrics import classification_report\n",
        "\n",
        "scale_pos_weight = y_train.value_counts()[0] / y_train.value_counts()[1]\n",
        "\n",
        "models = {\n",
        "    \"Logistic Regression\": LogisticRegression(\n",
        "        random_state=42,\n",
        "        max_iter=1000,\n",
        "        class_weight='balanced'\n",
        "    ),\n",
        "    \"XGBoost\": XGBClassifier(\n",
        "        random_state=42,\n",
        "        use_label_encoder=False,\n",
        "        eval_metric='logloss',\n",
        "        scale_pos_weight=scale_pos_weight\n",
        "    ),\n",
        "    \"LightGBM\": LGBMClassifier(\n",
        "        random_state=42,\n",
        "        scale_pos_weight=scale_pos_weight\n",
        "    )\n",
        "}\n",
        "\n",
        "for name, model in models.items():\n",
        "    print(f\"--- Training {name} ---\")\n",
        "    model.fit(X_train, y_train)\n",
        "    y_pred = model.predict(X_test)\n",
        "    print(f\"\\nClassification Report for {name}:\")\n",
        "    print(classification_report(y_test, y_pred))\n",
        "    print(\"=\"*50 + \"\\n\")"
      ]
    },
    {
      "cell_type": "code",
      "execution_count": 66,
      "id": "A0dVtq97rThn",
      "metadata": {
        "id": "A0dVtq97rThn",
        "colab": {
          "base_uri": "https://localhost:8080/"
        },
        "outputId": "182bd902-7ab7-4955-c885-1dc875e83ef3"
      },
      "outputs": [
        {
          "output_type": "stream",
          "name": "stdout",
          "text": [
            "Requirement already satisfied: optuna in /usr/local/lib/python3.12/dist-packages (4.5.0)\n",
            "Requirement already satisfied: alembic>=1.5.0 in /usr/local/lib/python3.12/dist-packages (from optuna) (1.16.5)\n",
            "Requirement already satisfied: colorlog in /usr/local/lib/python3.12/dist-packages (from optuna) (6.9.0)\n",
            "Requirement already satisfied: numpy in /usr/local/lib/python3.12/dist-packages (from optuna) (2.0.2)\n",
            "Requirement already satisfied: packaging>=20.0 in /usr/local/lib/python3.12/dist-packages (from optuna) (25.0)\n",
            "Requirement already satisfied: sqlalchemy>=1.4.2 in /usr/local/lib/python3.12/dist-packages (from optuna) (2.0.43)\n",
            "Requirement already satisfied: tqdm in /usr/local/lib/python3.12/dist-packages (from optuna) (4.67.1)\n",
            "Requirement already satisfied: PyYAML in /usr/local/lib/python3.12/dist-packages (from optuna) (6.0.2)\n",
            "Requirement already satisfied: Mako in /usr/lib/python3/dist-packages (from alembic>=1.5.0->optuna) (1.1.3)\n",
            "Requirement already satisfied: typing-extensions>=4.12 in /usr/local/lib/python3.12/dist-packages (from alembic>=1.5.0->optuna) (4.15.0)\n",
            "Requirement already satisfied: greenlet>=1 in /usr/local/lib/python3.12/dist-packages (from sqlalchemy>=1.4.2->optuna) (3.2.4)\n"
          ]
        }
      ],
      "source": [
        "!pip install optuna"
      ]
    },
    {
      "cell_type": "code",
      "execution_count": 67,
      "id": "73512ceb-1a64-4301-98e0-9e59e478b730",
      "metadata": {
        "id": "73512ceb-1a64-4301-98e0-9e59e478b730",
        "colab": {
          "base_uri": "https://localhost:8080/"
        },
        "outputId": "ba251d34-60ea-48d5-94f3-0af96420ed23"
      },
      "outputs": [
        {
          "output_type": "stream",
          "name": "stderr",
          "text": [
            "[I 2025-08-28 18:30:14,431] A new study created in memory with name: no-name-3c1afe79-7789-4974-baa5-e9c2ae02cb93\n"
          ]
        },
        {
          "output_type": "stream",
          "name": "stdout",
          "text": [
            "Using a sample of 225213 rows for faster tuning.\n",
            "\n",
            "--- Starting FAST Hyperparameter Tuning with Optuna (CPU) ---\n"
          ]
        },
        {
          "output_type": "stream",
          "name": "stderr",
          "text": [
            "[I 2025-08-28 18:30:46,821] Trial 0 finished with value: 0.9806607822259976 and parameters: {'n_estimators': 631, 'learning_rate': 0.018233556280653127, 'num_leaves': 115, 'max_depth': 11, 'min_child_samples': 37, 'subsample': 0.9189280923588844, 'reg_alpha': 0.378823628699239, 'reg_lambda': 0.5408748480609523}. Best is trial 0 with value: 0.9806607822259976.\n",
            "[I 2025-08-28 18:31:30,460] Trial 1 finished with value: 0.9810356415154413 and parameters: {'n_estimators': 890, 'learning_rate': 0.24307112441398665, 'num_leaves': 105, 'max_depth': 10, 'min_child_samples': 96, 'subsample': 0.6247031965835688, 'reg_alpha': 0.8100373183548957, 'reg_lambda': 0.5082833829855616}. Best is trial 1 with value: 0.9810356415154413.\n",
            "[I 2025-08-28 18:31:42,145] Trial 2 finished with value: 0.8544213545152053 and parameters: {'n_estimators': 850, 'learning_rate': 0.2731280249802199, 'num_leaves': 73, 'max_depth': 8, 'min_child_samples': 24, 'subsample': 0.8701494149485728, 'reg_alpha': 0.5523984805303531, 'reg_lambda': 0.4023712530785063}. Best is trial 1 with value: 0.9810356415154413.\n",
            "[I 2025-08-28 18:32:00,898] Trial 3 finished with value: 0.9817008800345262 and parameters: {'n_estimators': 385, 'learning_rate': 0.08298401392170508, 'num_leaves': 86, 'max_depth': 11, 'min_child_samples': 50, 'subsample': 0.7969299487368898, 'reg_alpha': 0.8940297934794712, 'reg_lambda': 0.021575133839262906}. Best is trial 3 with value: 0.9817008800345262.\n",
            "[I 2025-08-28 18:32:26,635] Trial 4 finished with value: 0.9815497556825374 and parameters: {'n_estimators': 717, 'learning_rate': 0.14805931447298407, 'num_leaves': 96, 'max_depth': 8, 'min_child_samples': 34, 'subsample': 0.9505555226328211, 'reg_alpha': 0.7402933969196158, 'reg_lambda': 0.37984262885869235}. Best is trial 3 with value: 0.9817008800345262.\n",
            "[I 2025-08-28 18:33:02,895] Trial 5 finished with value: 0.9818273878522923 and parameters: {'n_estimators': 925, 'learning_rate': 0.109767918181318, 'num_leaves': 136, 'max_depth': 7, 'min_child_samples': 26, 'subsample': 0.885376472051943, 'reg_alpha': 0.1507690589338938, 'reg_lambda': 0.4629267962050957}. Best is trial 5 with value: 0.9818273878522923.\n",
            "[I 2025-08-28 18:33:04,984] Trial 6 finished with value: 0.9750087131843618 and parameters: {'n_estimators': 111, 'learning_rate': 0.23209558598380697, 'num_leaves': 87, 'max_depth': 4, 'min_child_samples': 72, 'subsample': 0.6241315220267655, 'reg_alpha': 0.7204392206970492, 'reg_lambda': 0.16471573596303257}. Best is trial 5 with value: 0.9818273878522923.\n",
            "[I 2025-08-28 18:33:12,289] Trial 7 finished with value: 0.9804890946235614 and parameters: {'n_estimators': 249, 'learning_rate': 0.18376144662442134, 'num_leaves': 113, 'max_depth': 8, 'min_child_samples': 96, 'subsample': 0.8290790442218778, 'reg_alpha': 0.5280387488609274, 'reg_lambda': 0.30083852507427167}. Best is trial 5 with value: 0.9818273878522923.\n"
          ]
        },
        {
          "output_type": "stream",
          "name": "stdout",
          "text": [
            "\n",
            "Best trial:\n",
            "  Value:  0.9818273878522923\n",
            "  Params: \n",
            "    n_estimators: 925\n",
            "    learning_rate: 0.109767918181318\n",
            "    num_leaves: 136\n",
            "    max_depth: 7\n",
            "    min_child_samples: 26\n",
            "    subsample: 0.885376472051943\n",
            "    reg_alpha: 0.1507690589338938\n",
            "    reg_lambda: 0.4629267962050957\n",
            "\n",
            "--- Evaluating the Best Model on the FULL Test Set ---\n",
            "              precision    recall  f1-score   support\n",
            "\n",
            "           0       1.00      0.98      0.99    279172\n",
            "           1       0.23      0.87      0.36      2344\n",
            "\n",
            "    accuracy                           0.97    281516\n",
            "   macro avg       0.61      0.92      0.68    281516\n",
            "weighted avg       0.99      0.97      0.98    281516\n",
            "\n"
          ]
        }
      ],
      "source": [
        "import optuna\n",
        "from lightgbm import LGBMClassifier\n",
        "from sklearn.model_selection import cross_val_score\n",
        "from sklearn.metrics import classification_report\n",
        "\n",
        "X_train_sample = X_train.sample(frac=0.2, random_state=42)\n",
        "y_train_sample = y_train.loc[X_train_sample.index]\n",
        "\n",
        "print(f\"Using a sample of {len(X_train_sample)} rows for faster tuning.\")\n",
        "\n",
        "def objective(trial):\n",
        "    param = {\n",
        "        'objective': 'binary',\n",
        "        'metric': 'binary_logloss',\n",
        "        'random_state': 42,\n",
        "        'n_jobs': -1,\n",
        "        'scale_pos_weight': scale_pos_weight,\n",
        "        'verbose': -1,\n",
        "        'n_estimators': trial.suggest_int('n_estimators', 100, 1000),\n",
        "        'learning_rate': trial.suggest_float('learning_rate', 0.01, 0.3),\n",
        "        'num_leaves': trial.suggest_int('num_leaves', 20, 150),\n",
        "        'max_depth': trial.suggest_int('max_depth', 3, 12),\n",
        "        'min_child_samples': trial.suggest_int('min_child_samples', 20, 100),\n",
        "        'subsample': trial.suggest_float('subsample', 0.6, 1.0),\n",
        "        'reg_alpha': trial.suggest_float('reg_alpha', 0.0, 1.0),\n",
        "        'reg_lambda': trial.suggest_float('reg_lambda', 0.0, 1.0),\n",
        "    }\n",
        "\n",
        "    model = LGBMClassifier(**param)\n",
        "\n",
        "    score = cross_val_score(\n",
        "        model,\n",
        "        X_train_sample,\n",
        "        y_train_sample,\n",
        "        cv=2,\n",
        "        scoring='f1_weighted',\n",
        "        n_jobs=1\n",
        "    ).mean()\n",
        "\n",
        "    return score\n",
        "\n",
        "print(\"\\n--- Starting FAST Hyperparameter Tuning with Optuna (CPU) ---\")\n",
        "study = optuna.create_study(direction='maximize')\n",
        "study.optimize(objective, n_trials=8)\n",
        "\n",
        "print(\"\\nBest trial:\")\n",
        "trial = study.best_trial\n",
        "\n",
        "print(\"  Value: \", trial.value)\n",
        "print(\"  Params: \")\n",
        "for key, value in trial.params.items():\n",
        "    print(f\"    {key}: {value}\")\n",
        "\n",
        "print(\"\\n--- Evaluating the Best Model on the FULL Test Set ---\")\n",
        "best_params = trial.params\n",
        "best_params['random_state'] = 42\n",
        "best_params['scale_pos_weight'] = scale_pos_weight\n",
        "\n",
        "final_model = LGBMClassifier(**best_params)\n",
        "final_model.fit(X_train, y_train)\n",
        "\n",
        "y_pred_final = final_model.predict(X_test)\n",
        "print(classification_report(y_test, y_pred_final))"
      ]
    },
    {
      "cell_type": "code",
      "execution_count": 68,
      "id": "eLREAf9qtnHb",
      "metadata": {
        "id": "eLREAf9qtnHb",
        "colab": {
          "base_uri": "https://localhost:8080/"
        },
        "outputId": "f6913ebe-4de7-4b16-a8f0-48d1012a6f67"
      },
      "outputs": [
        {
          "output_type": "stream",
          "name": "stdout",
          "text": [
            "['view_count', 'addtocart_count', 'unique_items_viewed', 'add_to_cart_rate', 'recency_days']\n"
          ]
        }
      ],
      "source": [
        "print(X_train.columns.tolist())"
      ]
    },
    {
      "cell_type": "code",
      "execution_count": 69,
      "id": "991cd3a0-0e94-4251-a83d-b69a6b0f6b43",
      "metadata": {
        "id": "991cd3a0-0e94-4251-a83d-b69a6b0f6b43",
        "colab": {
          "base_uri": "https://localhost:8080/"
        },
        "outputId": "fc40fbfe-fa08-486d-cb4f-a44e27f5bec0"
      },
      "outputs": [
        {
          "output_type": "stream",
          "name": "stdout",
          "text": [
            "\n",
            "--- Starting Hyperparameter Tuning for XGBoost ---\n"
          ]
        },
        {
          "output_type": "stream",
          "name": "stderr",
          "text": [
            "/usr/local/lib/python3.12/dist-packages/xgboost/training.py:183: UserWarning: [18:40:48] WARNING: /workspace/src/learner.cc:738: \n",
            "Parameters: { \"use_label_encoder\" } are not used.\n",
            "\n",
            "  bst.update(dtrain, iteration=i, fobj=obj)\n"
          ]
        },
        {
          "output_type": "stream",
          "name": "stdout",
          "text": [
            "\n",
            "Best Parameters Found for XGBoost:\n",
            "{'subsample': 0.7, 'n_estimators': 100, 'max_depth': 3, 'learning_rate': 0.01, 'colsample_bytree': 0.8}\n",
            "\n",
            "Classification Report for Tuned XGBoost:\n",
            "              precision    recall  f1-score   support\n",
            "\n",
            "           0       1.00      0.98      0.99    279172\n",
            "           1       0.28      0.91      0.43      2344\n",
            "\n",
            "    accuracy                           0.98    281516\n",
            "   macro avg       0.64      0.94      0.71    281516\n",
            "weighted avg       0.99      0.98      0.99    281516\n",
            "\n"
          ]
        }
      ],
      "source": [
        "from sklearn.model_selection import RandomizedSearchCV\n",
        "from xgboost import XGBClassifier\n",
        "from sklearn.metrics import classification_report\n",
        "\n",
        "xgb = XGBClassifier(\n",
        "    random_state=42,\n",
        "    use_label_encoder=False,\n",
        "    eval_metric='logloss',\n",
        "    scale_pos_weight=scale_pos_weight\n",
        ")\n",
        "\n",
        "param_grid_xgb = {\n",
        "    'n_estimators': [100, 200, 500],\n",
        "    'learning_rate': [0.01, 0.05, 0.1],\n",
        "    'max_depth': [3, 5, 7, 10],\n",
        "    'subsample': [0.7, 0.8, 0.9],\n",
        "    'colsample_bytree': [0.7, 0.8, 0.9]\n",
        "}\n",
        "\n",
        "random_search_xgb = RandomizedSearchCV(\n",
        "    xgb,\n",
        "    param_distributions=param_grid_xgb,\n",
        "    n_iter=10,\n",
        "    cv=3,\n",
        "    scoring='f1_weighted',\n",
        "    random_state=42,\n",
        "    n_jobs=-1\n",
        ")\n",
        "\n",
        "print(\"\\n--- Starting Hyperparameter Tuning for XGBoost ---\")\n",
        "random_search_xgb.fit(X_train, y_train)\n",
        "\n",
        "print(\"\\nBest Parameters Found for XGBoost:\")\n",
        "print(random_search_xgb.best_params_)\n",
        "\n",
        "best_xgb = random_search_xgb.best_estimator_\n",
        "y_pred_xgb_tuned = best_xgb.predict(X_test)\n",
        "\n",
        "print(\"\\nClassification Report for Tuned XGBoost:\")\n",
        "print(classification_report(y_test, y_pred_xgb_tuned))"
      ]
    },
    {
      "cell_type": "code",
      "source": [
        "import pandas as pd\n",
        "\n",
        "events_df = events_df.sort_values(by=['visitorid', 'timestamp_dt'])\n",
        "\n",
        "time_diffs = events_df.groupby('visitorid')['timestamp_dt'].diff()\n",
        "\n",
        "session_timeout = pd.Timedelta(minutes=30)\n",
        "\n",
        "is_new_session = (time_diffs > session_timeout) | (time_diffs.isnull())\n",
        "\n",
        "events_df['session_id'] = is_new_session.cumsum()\n",
        "\n",
        "print(\"Added 'session_id' column. Number of unique sessions found:\")\n",
        "print(events_df['session_id'].nunique())"
      ],
      "metadata": {
        "id": "Emy1z7LS4Vda",
        "colab": {
          "base_uri": "https://localhost:8080/"
        },
        "outputId": "3141e8bf-7d28-471f-d3f9-469c610e418a"
      },
      "id": "Emy1z7LS4Vda",
      "execution_count": 70,
      "outputs": [
        {
          "output_type": "stream",
          "name": "stdout",
          "text": [
            "Added 'session_id' column. Number of unique sessions found:\n",
            "1761675\n"
          ]
        }
      ]
    },
    {
      "cell_type": "code",
      "source": [
        "num_sessions = events_df.groupby('visitorid')['session_id'].nunique().reset_index()\n",
        "num_sessions = num_sessions.rename(columns={'session_id': 'num_sessions'})\n",
        "\n",
        "visitor_df = pd.merge(visitor_df, num_sessions, on='visitorid', how='left')\n",
        "visitor_df['num_sessions'] = visitor_df['num_sessions'].fillna(0)\n",
        "\n",
        "\n",
        "session_event_counts = events_df.groupby(['visitorid', 'session_id'])['event'].count().reset_index(name='event_count')\n",
        "avg_events_per_session = session_event_counts.groupby('visitorid')['event_count'].mean().reset_index()\n",
        "avg_events_per_session = avg_events_per_session.rename(columns={'event_count': 'avg_events_per_session'})\n",
        "\n",
        "visitor_df = pd.merge(visitor_df, avg_events_per_session, on='visitorid', how='left')\n",
        "visitor_df['avg_events_per_session'] = visitor_df['avg_events_per_session'].fillna(0)\n",
        "\n",
        "\n",
        "print(\"\\nNew features added to visitor_df. Here are the first few rows:\")\n",
        "print(visitor_df[['visitorid', 'purchased', 'num_sessions', 'avg_events_per_session']].head())"
      ],
      "metadata": {
        "id": "P0xd-jeP4VgJ",
        "colab": {
          "base_uri": "https://localhost:8080/"
        },
        "outputId": "d893d753-9e14-4fb7-99af-e1ab6a915ea9"
      },
      "id": "P0xd-jeP4VgJ",
      "execution_count": 71,
      "outputs": [
        {
          "output_type": "stream",
          "name": "stdout",
          "text": [
            "\n",
            "New features added to visitor_df. Here are the first few rows:\n",
            "   visitorid  purchased  num_sessions  avg_events_per_session\n",
            "0     257597          0             2                     1.0\n",
            "1     992329          0            15                     2.0\n",
            "2     111016          0             2                     1.0\n",
            "3     483717          0             1                     3.0\n",
            "4     951259          0             1                     1.0\n"
          ]
        }
      ]
    },
    {
      "cell_type": "code",
      "source": [
        "from sklearn.model_selection import train_test_split\n",
        "from xgboost import XGBClassifier\n",
        "from sklearn.metrics import classification_report\n",
        "\n",
        "new_features = [\n",
        "    'view_count',\n",
        "    'addtocart_count',\n",
        "    'unique_items_viewed',\n",
        "    'add_to_cart_rate',\n",
        "    'recency_days',\n",
        "    'num_sessions',\n",
        "    'avg_events_per_session'\n",
        "]\n",
        "\n",
        "X_new = visitor_df[new_features]\n",
        "y_new = visitor_df['purchased']\n",
        "\n",
        "X_train_new, X_test_new, y_train_new, y_test_new = train_test_split(\n",
        "    X_new, y_new, test_size=0.2, random_state=42, stratify=y_new\n",
        ")\n",
        "\n",
        "scale_pos_weight_new = y_train_new.value_counts()[0] / y_train_new.value_counts()[1]\n",
        "\n",
        "best_xgb_params = {\n",
        "    'subsample': 0.7,\n",
        "    'n_estimators': 100,\n",
        "    'max_depth': 3,\n",
        "    'learning_rate': 0.01,\n",
        "    'colsample_bytree': 0.8,\n",
        "    'random_state': 42,\n",
        "    'use_label_encoder': False,\n",
        "    'eval_metric': 'logloss',\n",
        "    'scale_pos_weight': scale_pos_weight_new\n",
        "}\n",
        "\n",
        "champion_model = XGBClassifier(**best_xgb_params)\n",
        "\n",
        "print(\"--- Re-training our champion model with new session features ---\")\n",
        "champion_model.fit(X_train_new, y_train_new)\n",
        "\n",
        "y_pred_new = champion_model.predict(X_test_new)\n",
        "\n",
        "print(\"\\nClassification Report (with Session Features):\")\n",
        "print(classification_report(y_test_new, y_pred_new))"
      ],
      "metadata": {
        "id": "xANmaogQ4VrS",
        "colab": {
          "base_uri": "https://localhost:8080/"
        },
        "outputId": "e36b1e2c-49b0-4547-c713-253fe375fc59"
      },
      "id": "xANmaogQ4VrS",
      "execution_count": 72,
      "outputs": [
        {
          "output_type": "stream",
          "name": "stdout",
          "text": [
            "--- Re-training our champion model with new session features ---\n"
          ]
        },
        {
          "output_type": "stream",
          "name": "stderr",
          "text": [
            "/usr/local/lib/python3.12/dist-packages/xgboost/training.py:183: UserWarning: [18:41:02] WARNING: /workspace/src/learner.cc:738: \n",
            "Parameters: { \"use_label_encoder\" } are not used.\n",
            "\n",
            "  bst.update(dtrain, iteration=i, fobj=obj)\n"
          ]
        },
        {
          "output_type": "stream",
          "name": "stdout",
          "text": [
            "\n",
            "Classification Report (with Session Features):\n",
            "              precision    recall  f1-score   support\n",
            "\n",
            "           0       1.00      0.98      0.99    279172\n",
            "           1       0.31      0.94      0.47      2344\n",
            "\n",
            "    accuracy                           0.98    281516\n",
            "   macro avg       0.66      0.96      0.73    281516\n",
            "weighted avg       0.99      0.98      0.99    281516\n",
            "\n"
          ]
        }
      ]
    },
    {
      "cell_type": "code",
      "source": [
        "\n",
        "feature_importances = pd.DataFrame({\n",
        "    'feature': new_features,\n",
        "    'importance': champion_model.feature_importances_\n",
        "}).sort_values('importance', ascending=False)\n",
        "\n",
        "print(\"Feature Importances from our Best Model:\")\n",
        "print(feature_importances)\n",
        "\n",
        "plt.figure(figsize=(12, 8))\n",
        "sns.barplot(\n",
        "    x='importance',\n",
        "    y='feature',\n",
        "    data=feature_importances,\n",
        "    palette='viridis'\n",
        ")\n",
        "plt.title('Feature Importance for Predicting Purchase Propensity', fontsize=16)\n",
        "plt.xlabel('Importance Score', fontsize=12)\n",
        "plt.ylabel('Feature', fontsize=12)\n",
        "plt.show()"
      ],
      "metadata": {
        "id": "TQ0Swc7t4VuV",
        "colab": {
          "base_uri": "https://localhost:8080/",
          "height": 940
        },
        "outputId": "8c6b0c21-6ba2-47f2-e80f-494378e4f214"
      },
      "id": "TQ0Swc7t4VuV",
      "execution_count": 73,
      "outputs": [
        {
          "output_type": "stream",
          "name": "stdout",
          "text": [
            "Feature Importances from our Best Model:\n",
            "                  feature  importance\n",
            "1         addtocart_count    0.677829\n",
            "3        add_to_cart_rate    0.265121\n",
            "6  avg_events_per_session    0.030480\n",
            "0              view_count    0.017422\n",
            "5            num_sessions    0.004553\n",
            "2     unique_items_viewed    0.004451\n",
            "4            recency_days    0.000144\n"
          ]
        },
        {
          "output_type": "stream",
          "name": "stderr",
          "text": [
            "/tmp/ipython-input-4249826080.py:10: FutureWarning: \n",
            "\n",
            "Passing `palette` without assigning `hue` is deprecated and will be removed in v0.14.0. Assign the `y` variable to `hue` and set `legend=False` for the same effect.\n",
            "\n",
            "  sns.barplot(\n"
          ]
        },
        {
          "output_type": "display_data",
          "data": {
            "text/plain": [
              "<Figure size 1200x800 with 1 Axes>"
            ],
            "image/png": "[encoded data removed]"
          },
          "metadata": {}
        }
      ]
    },
    {
      "cell_type": "code",
      "execution_count": 74,
      "id": "wsOcKUIPj5oF",
      "metadata": {
        "id": "wsOcKUIPj5oF",
        "colab": {
          "base_uri": "https://localhost:8080/"
        },
        "outputId": "b471578f-01ef-4c83-c04b-5451ee8ba779"
      },
      "outputs": [
        {
          "output_type": "stream",
          "name": "stdout",
          "text": [
            "Requirement already satisfied: imbalanced-learn in /usr/local/lib/python3.12/dist-packages (0.14.0)\n",
            "Requirement already satisfied: numpy<3,>=1.25.2 in /usr/local/lib/python3.12/dist-packages (from imbalanced-learn) (2.0.2)\n",
            "Requirement already satisfied: scipy<2,>=1.11.4 in /usr/local/lib/python3.12/dist-packages (from imbalanced-learn) (1.16.1)\n",
            "Requirement already satisfied: scikit-learn<2,>=1.4.2 in /usr/local/lib/python3.12/dist-packages (from imbalanced-learn) (1.6.1)\n",
            "Requirement already satisfied: joblib<2,>=1.2.0 in /usr/local/lib/python3.12/dist-packages (from imbalanced-learn) (1.5.1)\n",
            "Requirement already satisfied: threadpoolctl<4,>=2.0.0 in /usr/local/lib/python3.12/dist-packages (from imbalanced-learn) (3.6.0)\n"
          ]
        }
      ],
      "source": [
        "!pip install imbalanced-learn"
      ]
    },
    {
      "cell_type": "code",
      "execution_count": 75,
      "id": "XkDvL31Kj5qw",
      "metadata": {
        "id": "XkDvL31Kj5qw",
        "colab": {
          "base_uri": "https://localhost:8080/"
        },
        "outputId": "ef23ceb5-4b09-4075-be96-aab59556bf12"
      },
      "outputs": [
        {
          "output_type": "stream",
          "name": "stdout",
          "text": [
            "Applying SMOTE to the training data...\n",
            "Original training set shape: {0: 1116689, 1: 9375}\n",
            "Resampled training set shape: {0: 1116689, 1: 1116689}\n",
            "\n",
            "--- Training model on SMOTE-balanced data ---\n"
          ]
        },
        {
          "output_type": "stream",
          "name": "stderr",
          "text": [
            "/usr/local/lib/python3.12/dist-packages/xgboost/training.py:183: UserWarning: [18:41:27] WARNING: /workspace/src/learner.cc:738: \n",
            "Parameters: { \"use_label_encoder\" } are not used.\n",
            "\n",
            "  bst.update(dtrain, iteration=i, fobj=obj)\n"
          ]
        },
        {
          "output_type": "stream",
          "name": "stdout",
          "text": [
            "\n",
            "Classification Report (with SMOTE):\n",
            "              precision    recall  f1-score   support\n",
            "\n",
            "           0       1.00      0.98      0.99    279172\n",
            "           1       0.30      0.91      0.46      2344\n",
            "\n",
            "    accuracy                           0.98    281516\n",
            "   macro avg       0.65      0.94      0.72    281516\n",
            "weighted avg       0.99      0.98      0.99    281516\n",
            "\n"
          ]
        }
      ],
      "source": [
        "from sklearn.model_selection import train_test_split\n",
        "from xgboost import XGBClassifier\n",
        "from sklearn.metrics import classification_report\n",
        "from imblearn.over_sampling import SMOTE\n",
        "\n",
        "final_features_optimized = [\n",
        "    'view_count',\n",
        "    'addtocart_count',\n",
        "    'unique_items_viewed',\n",
        "    'add_to_cart_rate',\n",
        "    'recency_days',\n",
        "    'num_sessions',\n",
        "    'avg_events_per_session'\n",
        "]\n",
        "\n",
        "X = visitor_df[final_features_optimized]\n",
        "y = visitor_df['purchased']\n",
        "\n",
        "X_train, X_test, y_train, y_test = train_test_split(\n",
        "    X, y, test_size=0.2, random_state=42, stratify=y\n",
        ")\n",
        "\n",
        "print(\"Applying SMOTE to the training data...\")\n",
        "smote = SMOTE(random_state=42)\n",
        "X_train_resampled, y_train_resampled = smote.fit_resample(X_train, y_train)\n",
        "\n",
        "print(f\"Original training set shape: {y_train.value_counts().to_dict()}\")\n",
        "print(f\"Resampled training set shape: {y_train_resampled.value_counts().to_dict()}\")\n",
        "\n",
        "best_xgb_params = {\n",
        "    'subsample': 0.7,\n",
        "    'n_estimators': 100,\n",
        "    'max_depth': 3,\n",
        "    'learning_rate': 0.01,\n",
        "    'colsample_bytree': 0.8,\n",
        "    'random_state': 42,\n",
        "    'use_label_encoder': False,\n",
        "    'eval_metric': 'logloss'\n",
        "}\n",
        "\n",
        "smote_model = XGBClassifier(**best_xgb_params)\n",
        "\n",
        "print(\"\\n--- Training model on SMOTE-balanced data ---\")\n",
        "smote_model.fit(X_train_resampled, y_train_resampled)\n",
        "\n",
        "y_pred_smote = smote_model.predict(X_test)\n",
        "\n",
        "print(\"\\nClassification Report (with SMOTE):\")\n",
        "print(classification_report(y_test, y_pred_smote))"
      ]
    },
    {
      "cell_type": "code",
      "execution_count": 76,
      "id": "Y4g9qsvzjWMZ",
      "metadata": {
        "id": "Y4g9qsvzjWMZ",
        "colab": {
          "base_uri": "https://localhost:8080/"
        },
        "outputId": "9e3d5d41-2999-4ef9-833d-2efa94e1ddac"
      },
      "outputs": [
        {
          "output_type": "stream",
          "name": "stdout",
          "text": [
            "The final model's accuracy on the test set is: 0.9820\n"
          ]
        }
      ],
      "source": [
        "from sklearn.metrics import accuracy_score\n",
        "\n",
        "final_accuracy = accuracy_score(y_test, y_pred_smote)\n",
        "print(f\"The final model's accuracy on the test set is: {final_accuracy:.4f}\")"
      ]
    },
    {
      "cell_type": "code",
      "execution_count": 77,
      "id": "jmLlnZr9jWPA",
      "metadata": {
        "id": "jmLlnZr9jWPA",
        "colab": {
          "base_uri": "https://localhost:8080/",
          "height": 566
        },
        "outputId": "cb2799a3-44d9-4f27-9443-d35e0d5389d9"
      },
      "outputs": [
        {
          "output_type": "display_data",
          "data": {
            "text/plain": [
              "<Figure size 800x600 with 2 Axes>"
            ],
            "image/png": "[encoded data removed]"
          },
          "metadata": {}
        }
      ],
      "source": [
        "from sklearn.metrics import confusion_matrix\n",
        "import seaborn as sns\n",
        "import matplotlib.pyplot as plt\n",
        "\n",
        "cm = confusion_matrix(y_test, y_pred_smote)\n",
        "\n",
        "plt.figure(figsize=(8, 6))\n",
        "sns.heatmap(cm, annot=True, fmt='d', cmap='Blues',\n",
        "            xticklabels=['Predicted No', 'Predicted Yes'],\n",
        "            yticklabels=['Actual No', 'Actual Yes'])\n",
        "plt.title('Confusion Matrix', fontsize=16)\n",
        "plt.ylabel('Actual Label')\n",
        "plt.xlabel('Predicted Label')\n",
        "plt.show()"
      ]
    },
    {
      "cell_type": "code",
      "execution_count": 78,
      "id": "3BJbhIFujWRf",
      "metadata": {
        "id": "3BJbhIFujWRf",
        "colab": {
          "base_uri": "https://localhost:8080/",
          "height": 583
        },
        "outputId": "342b9677-a875-4469-fa16-f0ac2c414577"
      },
      "outputs": [
        {
          "output_type": "stream",
          "name": "stdout",
          "text": [
            "ROC AUC Score: 0.9890\n"
          ]
        },
        {
          "output_type": "display_data",
          "data": {
            "text/plain": [
              "<Figure size 800x600 with 1 Axes>"
            ],
            "image/png": "[encoded data removed]"
          },
          "metadata": {}
        }
      ],
      "source": [
        "from sklearn.metrics import roc_curve, roc_auc_score\n",
        "\n",
        "y_pred_proba = smote_model.predict_proba(X_test)[:, 1]\n",
        "\n",
        "fpr, tpr, thresholds = roc_curve(y_test, y_pred_proba)\n",
        "\n",
        "auc_score = roc_auc_score(y_test, y_pred_proba)\n",
        "print(f\"ROC AUC Score: {auc_score:.4f}\")\n",
        "\n",
        "plt.figure(figsize=(8, 6))\n",
        "plt.plot(fpr, tpr, label=f'AUC = {auc_score:.4f}')\n",
        "plt.plot([0, 1], [0, 1], linestyle='--', color='gray', label='Random Guess')\n",
        "plt.title('Receiver Operating Characteristic (ROC) Curve', fontsize=16)\n",
        "plt.xlabel('False Positive Rate')\n",
        "plt.ylabel('True Positive Rate (Recall)')\n",
        "plt.legend()\n",
        "plt.show()\n"
      ]
    },
    {
      "cell_type": "code",
      "execution_count": 79,
      "id": "iQuZOa3tjWTs",
      "metadata": {
        "id": "iQuZOa3tjWTs",
        "colab": {
          "base_uri": "https://localhost:8080/"
        },
        "outputId": "535a583e-bac2-4356-d285-f6bb4460f55b"
      },
      "outputs": [
        {
          "output_type": "stream",
          "name": "stdout",
          "text": [
            "Matthews Correlation Coefficient (MCC): 0.5194\n"
          ]
        }
      ],
      "source": [
        "from sklearn.metrics import matthews_corrcoef\n",
        "\n",
        "mcc_smote = matthews_corrcoef(y_test, y_pred_smote)\n",
        "print(f\"Matthews Correlation Coefficient (MCC): {mcc_smote:.4f}\")"
      ]
    },
    {
      "cell_type": "code",
      "source": [
        "from sklearn.metrics import matthews_corrcoef\n",
        "\n",
        "mcc = matthews_corrcoef(y_test, y_pred_new)\n",
        "print(f\"Matthews Correlation Coefficient (MCC): {mcc:.4f}\")"
      ],
      "metadata": {
        "colab": {
          "base_uri": "https://localhost:8080/"
        },
        "id": "BqJX9mmhUUAI",
        "outputId": "e1b3a313-7ff4-4d48-8a01-82051393e1d1"
      },
      "id": "BqJX9mmhUUAI",
      "execution_count": 80,
      "outputs": [
        {
          "output_type": "stream",
          "name": "stdout",
          "text": [
            "Matthews Correlation Coefficient (MCC): 0.5341\n"
          ]
        }
      ]
    },
    {
      "cell_type": "code",
      "execution_count": 81,
      "id": "KxObuut0oVFX",
      "metadata": {
        "id": "KxObuut0oVFX",
        "colab": {
          "base_uri": "https://localhost:8080/"
        },
        "outputId": "71188ff8-ddb9-4c1b-9fc7-2681d7179959"
      },
      "outputs": [
        {
          "output_type": "stream",
          "name": "stdout",
          "text": [
            "Threshold | Precision | Recall\n",
            "--------------------------------\n",
            "  0.50    |   0.3114  |  0.9352\n",
            "  0.55    |   0.3114  |  0.9352\n",
            "  0.60    |   0.3045  |  0.9053\n",
            "  0.65    |   0.3043  |  0.9044\n",
            "  0.70    |   0.3646  |  0.8951\n",
            "  0.75    |   0.3662  |  0.8942\n",
            "  0.80    |   0.3822  |  0.7368\n",
            "  0.85    |   0.0000  |  0.0000\n",
            "  0.90    |   0.0000  |  0.0000\n",
            "  0.95    |   0.0000  |  0.0000\n"
          ]
        }
      ],
      "source": [
        "import numpy as np\n",
        "from sklearn.metrics import precision_score, recall_score\n",
        "\n",
        "y_pred_proba =champion_model.predict_proba(X_test_new)[:, 1]\n",
        "\n",
        "print(\"Threshold | Precision | Recall\")\n",
        "print(\"--------------------------------\")\n",
        "for threshold in np.arange(0.5, 1.0, 0.05):\n",
        "    y_pred_custom = (y_pred_proba >= threshold).astype(int)\n",
        "\n",
        "    precision = precision_score(y_test_new, y_pred_custom, zero_division=0)\n",
        "    recall = recall_score(y_test_new, y_pred_custom, zero_division=0)\n",
        "\n",
        "    print(f\"  {threshold:.2f}    |   {precision:.4f}  |  {recall:.4f}\")"
      ]
    },
    {
      "cell_type": "code",
      "execution_count": 82,
      "id": "Ka9wtRovoVIB",
      "metadata": {
        "id": "Ka9wtRovoVIB",
        "colab": {
          "base_uri": "https://localhost:8080/"
        },
        "outputId": "b1f650b7-33f7-4173-a3e2-e26c0e95344c"
      },
      "outputs": [
        {
          "output_type": "stream",
          "name": "stdout",
          "text": [
            "Model successfully saved as 'propensity_model.pkl'\n"
          ]
        }
      ],
      "source": [
        "import joblib\n",
        "\n",
        "joblib.dump(champion_model, 'propensity_model.pkl')\n",
        "\n",
        "print(\"Model successfully saved as 'propensity_model.pkl'\")"
      ]
    },
    {
      "cell_type": "code",
      "source": [
        "# Assuming 'y_test_final' and 'y_pred_final' are from your last model run\n",
        "true_positives = y_test_new[(y_test_new == 1) & (y_pred_new == 1)].index\n",
        "true_negatives = y_test_new[(y_test_new == 0) & (y_pred_new == 0)].index\n",
        "false_negatives = y_test_new[(y_test_new == 1) & (y_pred_new == 0)].index\n",
        "\n",
        "# Get the actual visitorid from the index\n",
        "tp_visitor_id = visitor_df.loc[true_positives[0]]['visitorid']\n",
        "tn_visitor_id = visitor_df.loc[true_negatives[0]]['visitorid']\n",
        "fn_visitor_id = visitor_df.loc[false_negatives[0]]['visitorid']\n",
        "\n",
        "print(f\"Example True Positive Visitor ID: {tp_visitor_id}\")\n",
        "print(f\"Example True Negative Visitor ID: {tn_visitor_id}\")\n",
        "print(f\"Example False Negative Visitor ID: {fn_visitor_id}\")"
      ],
      "metadata": {
        "colab": {
          "base_uri": "https://localhost:8080/"
        },
        "id": "7owYo2LYoXSd",
        "outputId": "fa5fa533-1ea1-492e-d1a8-8388e182b9f6"
      },
      "id": "7owYo2LYoXSd",
      "execution_count": 83,
      "outputs": [
        {
          "output_type": "stream",
          "name": "stdout",
          "text": [
            "Example True Positive Visitor ID: 667873\n",
            "Example True Negative Visitor ID: 38299\n",
            "Example False Negative Visitor ID: 1199079\n"
          ]
        }
      ]
    },
    {
      "cell_type": "code",
      "source": [
        "visitor_df.to_csv('visitor_df_final.csv', index=False)"
      ],
      "metadata": {
        "id": "Y3ALzv5loVWQ"
      },
      "id": "Y3ALzv5loVWQ",
      "execution_count": 84,
      "outputs": []
    }
  ],
  "metadata": {
    "accelerator": "GPU",
    "colab": {
      "gpuType": "T4",
      "provenance": []
    },
    "kernelspec": {
      "display_name": "Python 3",
      "name": "python3"
    },
    "language_info": {
      "codemirror_mode": {
        "name": "ipython",
        "version": 3
      },
      "file_extension": ".py",
      "mimetype": "text/x-python",
      "name": "python",
      "nbconvert_exporter": "python",
      "pygments_lexer": "ipython3",
      "version": "3.13.5"
    }
  },
  "nbformat": 4,
  "nbformat_minor": 5
}